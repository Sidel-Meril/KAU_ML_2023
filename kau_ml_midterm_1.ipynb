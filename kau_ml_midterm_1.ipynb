{
  "cells": [
    {
      "cell_type": "markdown",
      "metadata": {
        "id": "view-in-github",
        "colab_type": "text"
      },
      "source": [
        "<a href=\"https://colab.research.google.com/github/Sidel-Meril/KAU_ML_2023/blob/main/kau_ml_midterm_1.ipynb\" target=\"_parent\"><img src=\"https://colab.research.google.com/assets/colab-badge.svg\" alt=\"Open In Colab\"/></a>"
      ]
    },
    {
      "cell_type": "markdown",
      "id": "1d88bdce",
      "metadata": {
        "id": "1d88bdce"
      },
      "source": [
        "# Task\n",
        "\n",
        "* Go to <a href=\"https://zno.testportal.com.ua/opendata\"> OpenData portal of Independent Final Examination (IFE)</a>\n",
        "* Download one or more datasets available there\n",
        "* Analyze the dataset(s). I leave it as an open problem, thus you may perform any type of analysis you want. Few ideas listed below\n",
        "   - [Find the best school based on the dataset(s) (define certain metric and perform anlysis, you should clearly state which metric you use and why)](#scrollTo=6b6bcf51)\n",
        "   - [Find out if it's true that city schools pass IFE better than village schools](#scrollTo=8773a187)\n",
        "   - [Find out whether there are any patterns in choosing examination subjects for men and women](#scrollTo=8773a187)\n",
        "   - Any other interesting ideas you come up with"
      ]
    },
    {
      "cell_type": "markdown",
      "id": "1004a3e1",
      "metadata": {
        "id": "1004a3e1"
      },
      "source": [
        "*Note:* I'll use two datasets: the last year (2022) and previous (2021) for comparsion of exam forms provided ministry of education"
      ]
    },
    {
      "cell_type": "markdown",
      "id": "8ed51e10",
      "metadata": {
        "id": "8ed51e10"
      },
      "source": [
        "# Grading criteria:\n",
        "* I expect a confident usage of basic ML tools we study: Python, libraries NumPy, Pandas, Matplotlib.\n",
        "* I expect the ability of succinct, cohesive, and coherent expression of your thoughts, i.e. clearly state (in a few sentences) what is the problem you are solving and what approach do you propose."
      ]
    },
    {
      "cell_type": "code",
      "execution_count": null,
      "id": "7d11cab0",
      "metadata": {
        "id": "7d11cab0"
      },
      "outputs": [],
      "source": [
        "import pandas as pd\n",
        "from matplotlib import pyplot as plt\n",
        "import numpy as np, re\n",
        "import scipy.stats as sts\n",
        "from IPython.display import Markdown as md\n",
        "from IPython.display import display"
      ]
    },
    {
      "cell_type": "markdown",
      "id": "23ef6436",
      "metadata": {
        "id": "23ef6436"
      },
      "source": [
        "# Downloading"
      ]
    },
    {
      "cell_type": "code",
      "execution_count": null,
      "id": "406c71e7",
      "metadata": {
        "colab": {
          "base_uri": "https://localhost:8080/"
        },
        "id": "406c71e7",
        "outputId": "f41cf977-7032-4202-c525-d3cc9f2868da"
      },
      "outputs": [
        {
          "output_type": "stream",
          "name": "stdout",
          "text": [
            "Looking in indexes: https://pypi.org/simple, https://us-python.pkg.dev/colab-wheels/public/simple/\n",
            "Requirement already satisfied: py7zr in /usr/local/lib/python3.9/dist-packages (0.20.4)\n",
            "Requirement already satisfied: texttable in /usr/local/lib/python3.9/dist-packages (from py7zr) (1.6.7)\n",
            "Requirement already satisfied: inflate64>=0.3.1 in /usr/local/lib/python3.9/dist-packages (from py7zr) (0.3.1)\n",
            "Requirement already satisfied: pyppmd<1.1.0,>=0.18.1 in /usr/local/lib/python3.9/dist-packages (from py7zr) (1.0.0)\n",
            "Requirement already satisfied: pyzstd>=0.14.4 in /usr/local/lib/python3.9/dist-packages (from py7zr) (0.15.4)\n",
            "Requirement already satisfied: psutil in /usr/local/lib/python3.9/dist-packages (from py7zr) (5.9.4)\n",
            "Requirement already satisfied: pybcj>=0.6.0 in /usr/local/lib/python3.9/dist-packages (from py7zr) (1.0.1)\n",
            "Requirement already satisfied: pycryptodomex>=3.6.6 in /usr/local/lib/python3.9/dist-packages (from py7zr) (3.17)\n",
            "Requirement already satisfied: brotli>=1.0.9 in /usr/local/lib/python3.9/dist-packages (from py7zr) (1.0.9)\n",
            "Requirement already satisfied: multivolumefile>=0.2.3 in /usr/local/lib/python3.9/dist-packages (from py7zr) (0.2.3)\n"
          ]
        },
        {
          "output_type": "stream",
          "name": "stderr",
          "text": [
            "<ipython-input-122-a69f0dc60695>:14: DtypeWarning: Columns (117,118,121,123,124,125,126,137,138,141,143,144,145,146) have mixed types. Specify dtype option on import or set low_memory=False.\n",
            "  zno_2021_df = pd.read_csv(zno_2021, sep=';', decimal=',')\n"
          ]
        },
        {
          "output_type": "stream",
          "name": "stdout",
          "text": [
            "<class 'pandas.core.frame.DataFrame'>\n",
            "RangeIndex: 389323 entries, 0 to 389322\n",
            "Columns: 147 entries, OUTID to SpaPTTerName\n",
            "dtypes: float64(40), int64(1), object(106)\n",
            "memory usage: 436.6+ MB\n",
            "None\n",
            "<class 'pandas.core.frame.DataFrame'>\n",
            "RangeIndex: 234104 entries, 0 to 234103\n",
            "Data columns (total 29 columns):\n",
            " #   Column         Non-Null Count   Dtype  \n",
            "---  ------         --------------   -----  \n",
            " 0   OUTID          234104 non-null  object \n",
            " 1   Birth          234104 non-null  int64  \n",
            " 2   SexTypeName    234104 non-null  object \n",
            " 3   RegName        234104 non-null  object \n",
            " 4   AREANAME       234104 non-null  object \n",
            " 5   TERNAME        234104 non-null  object \n",
            " 6   RegTypeName    234104 non-null  object \n",
            " 7   TerTypeName    234104 non-null  object \n",
            " 8   EONAME         196432 non-null  object \n",
            " 9   EOTypeName     196432 non-null  object \n",
            " 10  EORegName      196432 non-null  object \n",
            " 11  EOAreaName     196432 non-null  object \n",
            " 12  EOTerName      196432 non-null  object \n",
            " 13  EOParent       196432 non-null  object \n",
            " 14  Test           234104 non-null  object \n",
            " 15  TestDate       234104 non-null  object \n",
            " 16  TestStatus     234104 non-null  object \n",
            " 17  Block1         234104 non-null  object \n",
            " 18  Block1Ball100  214074 non-null  float64\n",
            " 19  Block1Ball     214074 non-null  float64\n",
            " 20  Block2         234104 non-null  object \n",
            " 21  Block2Ball100  214074 non-null  float64\n",
            " 22  Block2Ball     214074 non-null  float64\n",
            " 23  Block3         234104 non-null  object \n",
            " 24  Block3Ball100  214074 non-null  float64\n",
            " 25  Block3Ball     214074 non-null  float64\n",
            " 26  PTRegName      234104 non-null  object \n",
            " 27  PTAreaName     234104 non-null  object \n",
            " 28  PTTerName      234104 non-null  object \n",
            "dtypes: float64(6), int64(1), object(22)\n",
            "memory usage: 51.8+ MB\n",
            "None\n"
          ]
        }
      ],
      "source": [
        "!pip install py7zr\n",
        "from io import StringIO, BytesIO\n",
        "from urllib.request import urlopen\n",
        "import py7zr\n",
        "\n",
        "def get_zip(url, file_type: str = '.csv'):\n",
        "    r = urlopen(url)\n",
        "    with py7zr.SevenZipFile(BytesIO(r.read()), mode='r') as archive:\n",
        "        filename = list(filter(lambda name: file_type in name, archive.getnames()))\n",
        "        return archive.read(targets=filename)[filename[0]]\n",
        "zno_2021 = get_zip('https://zno.testportal.com.ua/yearstat/uploads/OpenDataZNO2021.7z')\n",
        "nmt_2022 = get_zip('https://zno.testportal.com.ua/yearstat/uploads/OpenDataNMT2022.7z')\n",
        "\n",
        "zno_2021_df = pd.read_csv(zno_2021, sep=';', decimal=',')\n",
        "print(zno_2021_df.info())\n",
        "nmt_2022_df = pd.read_csv(nmt_2022, sep=';', decimal=',')\n",
        "print(nmt_2022_df.info())\n",
        "\n",
        "del zno_2021, nmt_2022"
      ]
    },
    {
      "cell_type": "markdown",
      "id": "ac8f6df3",
      "metadata": {
        "id": "ac8f6df3"
      },
      "source": [
        "# Review\n",
        "\n",
        "This section examines what data are collected in both datasets"
      ]
    },
    {
      "cell_type": "code",
      "execution_count": null,
      "id": "1f532641",
      "metadata": {
        "scrolled": false,
        "colab": {
          "base_uri": "https://localhost:8080/",
          "height": 1000
        },
        "id": "1f532641",
        "outputId": "5e1ef1f4-abd1-4b54-c878-42d952aa42be"
      },
      "outputs": [
        {
          "output_type": "stream",
          "name": "stdout",
          "text": [
            "NMT 2022 dataset\n"
          ]
        },
        {
          "output_type": "display_data",
          "data": {
            "text/plain": [
              "                                  OUTID  Birth SexTypeName            RegName  \\\n",
              "0  d60381f3-8d71-441e-817e-49b9fa8b43dd   2005    чоловіча  Львівська область   \n",
              "1  eb25a9fc-b757-4321-a2b4-ebb1b635397d   2005    чоловіча  Львівська область   \n",
              "2  1cb161bd-51ed-4d24-b605-1d45db63cada   2005      жіноча  Львівська область   \n",
              "3  0311b8d8-67bb-49a4-a0b9-f049b7ef4184   2005      жіноча  Львівська область   \n",
              "4  a8b35a53-feac-4e42-aed8-8d6ffab7decf   2005    чоловіча  Львівська область   \n",
              "\n",
              "            AREANAME    TERNAME  \\\n",
              "0  Яворівський район  с.Гусаків   \n",
              "1  Яворівський район  с.Гусаків   \n",
              "2  Яворівський район  с.Гусаків   \n",
              "3  Яворівський район  с.Гусаків   \n",
              "4  Яворівський район  с.Гусаків   \n",
              "\n",
              "                                         RegTypeName   TerTypeName  \\\n",
              "0  Випускник закладу загальної середньої освіти 2...  селище, село   \n",
              "1  Випускник закладу загальної середньої освіти 2...  селище, село   \n",
              "2  Випускник закладу загальної середньої освіти 2...  селище, село   \n",
              "3  Випускник закладу загальної середньої освіти 2...  селище, село   \n",
              "4  Випускник закладу загальної середньої освіти 2...  селище, село   \n",
              "\n",
              "                                              EONAME  \\\n",
              "0  Гусаківський навчально-виховний комплекс \"Зага...   \n",
              "1  Гусаківський навчально-виховний комплекс \"Зага...   \n",
              "2  Гусаківський навчально-виховний комплекс \"Зага...   \n",
              "3  Гусаківський навчально-виховний комплекс \"Зага...   \n",
              "4  Гусаківський навчально-виховний комплекс \"Зага...   \n",
              "\n",
              "                    EOTypeName  ... Block1Ball           Block2 Block2Ball100  \\\n",
              "0  навчально-виховний комплекс  ...       14.0  Історія України         147.0   \n",
              "1  навчально-виховний комплекс  ...       11.0  Історія України         149.0   \n",
              "2  навчально-виховний комплекс  ...       25.0  Історія України         158.0   \n",
              "3  навчально-виховний комплекс  ...       20.0  Історія України         146.0   \n",
              "4  навчально-виховний комплекс  ...       24.0  Історія України         144.0   \n",
              "\n",
              "  Block2Ball      Block3 Block3Ball100 Block3Ball          PTRegName  \\\n",
              "0       15.0  Математика         128.0        5.0  Львівська область   \n",
              "1       17.0  Математика         136.0        8.0  Львівська область   \n",
              "2       24.0  Математика         185.0       28.0  Львівська область   \n",
              "3       14.0  Математика         148.0       14.0  Львівська область   \n",
              "4       13.0  Математика         144.0       12.0  Львівська область   \n",
              "\n",
              "                         PTAreaName                PTTerName  \n",
              "0  м.Львів, Залізничний район міста  Залізничний район міста  \n",
              "1  м.Львів, Залізничний район міста  Залізничний район міста  \n",
              "2  м.Львів, Залізничний район міста  Залізничний район міста  \n",
              "3  м.Львів, Залізничний район міста  Залізничний район міста  \n",
              "4  м.Львів, Залізничний район міста  Залізничний район міста  \n",
              "\n",
              "[5 rows x 29 columns]"
            ],
            "text/html": [
              "\n",
              "  <div id=\"df-3b198f5a-08fa-45f9-8ec4-2dd259e51ca1\">\n",
              "    <div class=\"colab-df-container\">\n",
              "      <div>\n",
              "<style scoped>\n",
              "    .dataframe tbody tr th:only-of-type {\n",
              "        vertical-align: middle;\n",
              "    }\n",
              "\n",
              "    .dataframe tbody tr th {\n",
              "        vertical-align: top;\n",
              "    }\n",
              "\n",
              "    .dataframe thead th {\n",
              "        text-align: right;\n",
              "    }\n",
              "</style>\n",
              "<table border=\"1\" class=\"dataframe\">\n",
              "  <thead>\n",
              "    <tr style=\"text-align: right;\">\n",
              "      <th></th>\n",
              "      <th>OUTID</th>\n",
              "      <th>Birth</th>\n",
              "      <th>SexTypeName</th>\n",
              "      <th>RegName</th>\n",
              "      <th>AREANAME</th>\n",
              "      <th>TERNAME</th>\n",
              "      <th>RegTypeName</th>\n",
              "      <th>TerTypeName</th>\n",
              "      <th>EONAME</th>\n",
              "      <th>EOTypeName</th>\n",
              "      <th>...</th>\n",
              "      <th>Block1Ball</th>\n",
              "      <th>Block2</th>\n",
              "      <th>Block2Ball100</th>\n",
              "      <th>Block2Ball</th>\n",
              "      <th>Block3</th>\n",
              "      <th>Block3Ball100</th>\n",
              "      <th>Block3Ball</th>\n",
              "      <th>PTRegName</th>\n",
              "      <th>PTAreaName</th>\n",
              "      <th>PTTerName</th>\n",
              "    </tr>\n",
              "  </thead>\n",
              "  <tbody>\n",
              "    <tr>\n",
              "      <th>0</th>\n",
              "      <td>d60381f3-8d71-441e-817e-49b9fa8b43dd</td>\n",
              "      <td>2005</td>\n",
              "      <td>чоловіча</td>\n",
              "      <td>Львівська область</td>\n",
              "      <td>Яворівський район</td>\n",
              "      <td>с.Гусаків</td>\n",
              "      <td>Випускник закладу загальної середньої освіти 2...</td>\n",
              "      <td>селище, село</td>\n",
              "      <td>Гусаківський навчально-виховний комплекс \"Зага...</td>\n",
              "      <td>навчально-виховний комплекс</td>\n",
              "      <td>...</td>\n",
              "      <td>14.0</td>\n",
              "      <td>Історія України</td>\n",
              "      <td>147.0</td>\n",
              "      <td>15.0</td>\n",
              "      <td>Математика</td>\n",
              "      <td>128.0</td>\n",
              "      <td>5.0</td>\n",
              "      <td>Львівська область</td>\n",
              "      <td>м.Львів, Залізничний район міста</td>\n",
              "      <td>Залізничний район міста</td>\n",
              "    </tr>\n",
              "    <tr>\n",
              "      <th>1</th>\n",
              "      <td>eb25a9fc-b757-4321-a2b4-ebb1b635397d</td>\n",
              "      <td>2005</td>\n",
              "      <td>чоловіча</td>\n",
              "      <td>Львівська область</td>\n",
              "      <td>Яворівський район</td>\n",
              "      <td>с.Гусаків</td>\n",
              "      <td>Випускник закладу загальної середньої освіти 2...</td>\n",
              "      <td>селище, село</td>\n",
              "      <td>Гусаківський навчально-виховний комплекс \"Зага...</td>\n",
              "      <td>навчально-виховний комплекс</td>\n",
              "      <td>...</td>\n",
              "      <td>11.0</td>\n",
              "      <td>Історія України</td>\n",
              "      <td>149.0</td>\n",
              "      <td>17.0</td>\n",
              "      <td>Математика</td>\n",
              "      <td>136.0</td>\n",
              "      <td>8.0</td>\n",
              "      <td>Львівська область</td>\n",
              "      <td>м.Львів, Залізничний район міста</td>\n",
              "      <td>Залізничний район міста</td>\n",
              "    </tr>\n",
              "    <tr>\n",
              "      <th>2</th>\n",
              "      <td>1cb161bd-51ed-4d24-b605-1d45db63cada</td>\n",
              "      <td>2005</td>\n",
              "      <td>жіноча</td>\n",
              "      <td>Львівська область</td>\n",
              "      <td>Яворівський район</td>\n",
              "      <td>с.Гусаків</td>\n",
              "      <td>Випускник закладу загальної середньої освіти 2...</td>\n",
              "      <td>селище, село</td>\n",
              "      <td>Гусаківський навчально-виховний комплекс \"Зага...</td>\n",
              "      <td>навчально-виховний комплекс</td>\n",
              "      <td>...</td>\n",
              "      <td>25.0</td>\n",
              "      <td>Історія України</td>\n",
              "      <td>158.0</td>\n",
              "      <td>24.0</td>\n",
              "      <td>Математика</td>\n",
              "      <td>185.0</td>\n",
              "      <td>28.0</td>\n",
              "      <td>Львівська область</td>\n",
              "      <td>м.Львів, Залізничний район міста</td>\n",
              "      <td>Залізничний район міста</td>\n",
              "    </tr>\n",
              "    <tr>\n",
              "      <th>3</th>\n",
              "      <td>0311b8d8-67bb-49a4-a0b9-f049b7ef4184</td>\n",
              "      <td>2005</td>\n",
              "      <td>жіноча</td>\n",
              "      <td>Львівська область</td>\n",
              "      <td>Яворівський район</td>\n",
              "      <td>с.Гусаків</td>\n",
              "      <td>Випускник закладу загальної середньої освіти 2...</td>\n",
              "      <td>селище, село</td>\n",
              "      <td>Гусаківський навчально-виховний комплекс \"Зага...</td>\n",
              "      <td>навчально-виховний комплекс</td>\n",
              "      <td>...</td>\n",
              "      <td>20.0</td>\n",
              "      <td>Історія України</td>\n",
              "      <td>146.0</td>\n",
              "      <td>14.0</td>\n",
              "      <td>Математика</td>\n",
              "      <td>148.0</td>\n",
              "      <td>14.0</td>\n",
              "      <td>Львівська область</td>\n",
              "      <td>м.Львів, Залізничний район міста</td>\n",
              "      <td>Залізничний район міста</td>\n",
              "    </tr>\n",
              "    <tr>\n",
              "      <th>4</th>\n",
              "      <td>a8b35a53-feac-4e42-aed8-8d6ffab7decf</td>\n",
              "      <td>2005</td>\n",
              "      <td>чоловіча</td>\n",
              "      <td>Львівська область</td>\n",
              "      <td>Яворівський район</td>\n",
              "      <td>с.Гусаків</td>\n",
              "      <td>Випускник закладу загальної середньої освіти 2...</td>\n",
              "      <td>селище, село</td>\n",
              "      <td>Гусаківський навчально-виховний комплекс \"Зага...</td>\n",
              "      <td>навчально-виховний комплекс</td>\n",
              "      <td>...</td>\n",
              "      <td>24.0</td>\n",
              "      <td>Історія України</td>\n",
              "      <td>144.0</td>\n",
              "      <td>13.0</td>\n",
              "      <td>Математика</td>\n",
              "      <td>144.0</td>\n",
              "      <td>12.0</td>\n",
              "      <td>Львівська область</td>\n",
              "      <td>м.Львів, Залізничний район міста</td>\n",
              "      <td>Залізничний район міста</td>\n",
              "    </tr>\n",
              "  </tbody>\n",
              "</table>\n",
              "<p>5 rows × 29 columns</p>\n",
              "</div>\n",
              "      <button class=\"colab-df-convert\" onclick=\"convertToInteractive('df-3b198f5a-08fa-45f9-8ec4-2dd259e51ca1')\"\n",
              "              title=\"Convert this dataframe to an interactive table.\"\n",
              "              style=\"display:none;\">\n",
              "        \n",
              "  <svg xmlns=\"http://www.w3.org/2000/svg\" height=\"24px\"viewBox=\"0 0 24 24\"\n",
              "       width=\"24px\">\n",
              "    <path d=\"M0 0h24v24H0V0z\" fill=\"none\"/>\n",
              "    <path d=\"M18.56 5.44l.94 2.06.94-2.06 2.06-.94-2.06-.94-.94-2.06-.94 2.06-2.06.94zm-11 1L8.5 8.5l.94-2.06 2.06-.94-2.06-.94L8.5 2.5l-.94 2.06-2.06.94zm10 10l.94 2.06.94-2.06 2.06-.94-2.06-.94-.94-2.06-.94 2.06-2.06.94z\"/><path d=\"M17.41 7.96l-1.37-1.37c-.4-.4-.92-.59-1.43-.59-.52 0-1.04.2-1.43.59L10.3 9.45l-7.72 7.72c-.78.78-.78 2.05 0 2.83L4 21.41c.39.39.9.59 1.41.59.51 0 1.02-.2 1.41-.59l7.78-7.78 2.81-2.81c.8-.78.8-2.07 0-2.86zM5.41 20L4 18.59l7.72-7.72 1.47 1.35L5.41 20z\"/>\n",
              "  </svg>\n",
              "      </button>\n",
              "      \n",
              "  <style>\n",
              "    .colab-df-container {\n",
              "      display:flex;\n",
              "      flex-wrap:wrap;\n",
              "      gap: 12px;\n",
              "    }\n",
              "\n",
              "    .colab-df-convert {\n",
              "      background-color: #E8F0FE;\n",
              "      border: none;\n",
              "      border-radius: 50%;\n",
              "      cursor: pointer;\n",
              "      display: none;\n",
              "      fill: #1967D2;\n",
              "      height: 32px;\n",
              "      padding: 0 0 0 0;\n",
              "      width: 32px;\n",
              "    }\n",
              "\n",
              "    .colab-df-convert:hover {\n",
              "      background-color: #E2EBFA;\n",
              "      box-shadow: 0px 1px 2px rgba(60, 64, 67, 0.3), 0px 1px 3px 1px rgba(60, 64, 67, 0.15);\n",
              "      fill: #174EA6;\n",
              "    }\n",
              "\n",
              "    [theme=dark] .colab-df-convert {\n",
              "      background-color: #3B4455;\n",
              "      fill: #D2E3FC;\n",
              "    }\n",
              "\n",
              "    [theme=dark] .colab-df-convert:hover {\n",
              "      background-color: #434B5C;\n",
              "      box-shadow: 0px 1px 3px 1px rgba(0, 0, 0, 0.15);\n",
              "      filter: drop-shadow(0px 1px 2px rgba(0, 0, 0, 0.3));\n",
              "      fill: #FFFFFF;\n",
              "    }\n",
              "  </style>\n",
              "\n",
              "      <script>\n",
              "        const buttonEl =\n",
              "          document.querySelector('#df-3b198f5a-08fa-45f9-8ec4-2dd259e51ca1 button.colab-df-convert');\n",
              "        buttonEl.style.display =\n",
              "          google.colab.kernel.accessAllowed ? 'block' : 'none';\n",
              "\n",
              "        async function convertToInteractive(key) {\n",
              "          const element = document.querySelector('#df-3b198f5a-08fa-45f9-8ec4-2dd259e51ca1');\n",
              "          const dataTable =\n",
              "            await google.colab.kernel.invokeFunction('convertToInteractive',\n",
              "                                                     [key], {});\n",
              "          if (!dataTable) return;\n",
              "\n",
              "          const docLinkHtml = 'Like what you see? Visit the ' +\n",
              "            '<a target=\"_blank\" href=https://colab.research.google.com/notebooks/data_table.ipynb>data table notebook</a>'\n",
              "            + ' to learn more about interactive tables.';\n",
              "          element.innerHTML = '';\n",
              "          dataTable['output_type'] = 'display_data';\n",
              "          await google.colab.output.renderOutput(dataTable, element);\n",
              "          const docLink = document.createElement('div');\n",
              "          docLink.innerHTML = docLinkHtml;\n",
              "          element.appendChild(docLink);\n",
              "        }\n",
              "      </script>\n",
              "    </div>\n",
              "  </div>\n",
              "  "
            ]
          },
          "metadata": {}
        },
        {
          "output_type": "stream",
          "name": "stdout",
          "text": [
            "EIT 2021 dataset\n"
          ]
        },
        {
          "output_type": "execute_result",
          "data": {
            "text/plain": [
              "                                  OUTID  Birth SexTypeName  \\\n",
              "0  8a2abef7-625a-4253-8c14-000fe8a856e5   2003    чоловіча   \n",
              "1  3e975d01-9cc9-4072-bbcd-005b9da75096   2003    чоловіча   \n",
              "2  58c926c3-8718-4845-918b-00155b917934   2003    чоловіча   \n",
              "3  443f89c2-84e7-4a56-bea3-005c776e0121   2004      жіноча   \n",
              "4  0b7b2e81-a906-412f-ad74-005025fd9d29   2003      жіноча   \n",
              "\n",
              "                     RegName          AREANAME                   TERNAME  \\\n",
              "0   Дніпропетровська область      м.Кам'янське  Дніпровський район міста   \n",
              "1     Кіровоградська область   м.Кропивницький     Фортечний район міста   \n",
              "2   Дніпропетровська область          м.Дніпро      Соборний район міста   \n",
              "3     Кіровоградська область   м.Кропивницький     Фортечний район міста   \n",
              "4  Івано-Франківська область  Долинський район                  м.Долина   \n",
              "\n",
              "                                         RegTypeName TerTypeName  \\\n",
              "0                       Студент закладу вищої освіти       місто   \n",
              "1  Випускник загальноосвітнього навчального закла...       місто   \n",
              "2                       Студент закладу вищої освіти       місто   \n",
              "3  Випускник загальноосвітнього навчального закла...       місто   \n",
              "4  Випускник загальноосвітнього навчального закла...       місто   \n",
              "\n",
              "      ClassProfileNAME ClassLangName  ... SpaTest SpaTestStatus SpaBall100  \\\n",
              "0  Молодший спеціаліст    українська  ...     NaN           NaN        NaN   \n",
              "1        Технологічний    українська  ...     NaN           NaN        NaN   \n",
              "2  Молодший спеціаліст    українська  ...     NaN           NaN        NaN   \n",
              "3     Біолого-хімічний    українська  ...     NaN           NaN        NaN   \n",
              "4        Технологічний    українська  ...     NaN           NaN        NaN   \n",
              "\n",
              "  SpaBall12 SpaDPALevel SpaBall SpaPTName SpaPTRegName  SpaPTAreaName  \\\n",
              "0       NaN         NaN     NaN       NaN          NaN            NaN   \n",
              "1       NaN         NaN     NaN       NaN          NaN            NaN   \n",
              "2       NaN         NaN     NaN       NaN          NaN            NaN   \n",
              "3       NaN         NaN     NaN       NaN          NaN            NaN   \n",
              "4       NaN         NaN     NaN       NaN          NaN            NaN   \n",
              "\n",
              "   SpaPTTerName  \n",
              "0           NaN  \n",
              "1           NaN  \n",
              "2           NaN  \n",
              "3           NaN  \n",
              "4           NaN  \n",
              "\n",
              "[5 rows x 147 columns]"
            ],
            "text/html": [
              "\n",
              "  <div id=\"df-a2b41a10-95d6-47ee-8d5d-254f120a0147\">\n",
              "    <div class=\"colab-df-container\">\n",
              "      <div>\n",
              "<style scoped>\n",
              "    .dataframe tbody tr th:only-of-type {\n",
              "        vertical-align: middle;\n",
              "    }\n",
              "\n",
              "    .dataframe tbody tr th {\n",
              "        vertical-align: top;\n",
              "    }\n",
              "\n",
              "    .dataframe thead th {\n",
              "        text-align: right;\n",
              "    }\n",
              "</style>\n",
              "<table border=\"1\" class=\"dataframe\">\n",
              "  <thead>\n",
              "    <tr style=\"text-align: right;\">\n",
              "      <th></th>\n",
              "      <th>OUTID</th>\n",
              "      <th>Birth</th>\n",
              "      <th>SexTypeName</th>\n",
              "      <th>RegName</th>\n",
              "      <th>AREANAME</th>\n",
              "      <th>TERNAME</th>\n",
              "      <th>RegTypeName</th>\n",
              "      <th>TerTypeName</th>\n",
              "      <th>ClassProfileNAME</th>\n",
              "      <th>ClassLangName</th>\n",
              "      <th>...</th>\n",
              "      <th>SpaTest</th>\n",
              "      <th>SpaTestStatus</th>\n",
              "      <th>SpaBall100</th>\n",
              "      <th>SpaBall12</th>\n",
              "      <th>SpaDPALevel</th>\n",
              "      <th>SpaBall</th>\n",
              "      <th>SpaPTName</th>\n",
              "      <th>SpaPTRegName</th>\n",
              "      <th>SpaPTAreaName</th>\n",
              "      <th>SpaPTTerName</th>\n",
              "    </tr>\n",
              "  </thead>\n",
              "  <tbody>\n",
              "    <tr>\n",
              "      <th>0</th>\n",
              "      <td>8a2abef7-625a-4253-8c14-000fe8a856e5</td>\n",
              "      <td>2003</td>\n",
              "      <td>чоловіча</td>\n",
              "      <td>Дніпропетровська область</td>\n",
              "      <td>м.Кам'янське</td>\n",
              "      <td>Дніпровський район міста</td>\n",
              "      <td>Студент закладу вищої освіти</td>\n",
              "      <td>місто</td>\n",
              "      <td>Молодший спеціаліст</td>\n",
              "      <td>українська</td>\n",
              "      <td>...</td>\n",
              "      <td>NaN</td>\n",
              "      <td>NaN</td>\n",
              "      <td>NaN</td>\n",
              "      <td>NaN</td>\n",
              "      <td>NaN</td>\n",
              "      <td>NaN</td>\n",
              "      <td>NaN</td>\n",
              "      <td>NaN</td>\n",
              "      <td>NaN</td>\n",
              "      <td>NaN</td>\n",
              "    </tr>\n",
              "    <tr>\n",
              "      <th>1</th>\n",
              "      <td>3e975d01-9cc9-4072-bbcd-005b9da75096</td>\n",
              "      <td>2003</td>\n",
              "      <td>чоловіча</td>\n",
              "      <td>Кіровоградська область</td>\n",
              "      <td>м.Кропивницький</td>\n",
              "      <td>Фортечний район міста</td>\n",
              "      <td>Випускник загальноосвітнього навчального закла...</td>\n",
              "      <td>місто</td>\n",
              "      <td>Технологічний</td>\n",
              "      <td>українська</td>\n",
              "      <td>...</td>\n",
              "      <td>NaN</td>\n",
              "      <td>NaN</td>\n",
              "      <td>NaN</td>\n",
              "      <td>NaN</td>\n",
              "      <td>NaN</td>\n",
              "      <td>NaN</td>\n",
              "      <td>NaN</td>\n",
              "      <td>NaN</td>\n",
              "      <td>NaN</td>\n",
              "      <td>NaN</td>\n",
              "    </tr>\n",
              "    <tr>\n",
              "      <th>2</th>\n",
              "      <td>58c926c3-8718-4845-918b-00155b917934</td>\n",
              "      <td>2003</td>\n",
              "      <td>чоловіча</td>\n",
              "      <td>Дніпропетровська область</td>\n",
              "      <td>м.Дніпро</td>\n",
              "      <td>Соборний район міста</td>\n",
              "      <td>Студент закладу вищої освіти</td>\n",
              "      <td>місто</td>\n",
              "      <td>Молодший спеціаліст</td>\n",
              "      <td>українська</td>\n",
              "      <td>...</td>\n",
              "      <td>NaN</td>\n",
              "      <td>NaN</td>\n",
              "      <td>NaN</td>\n",
              "      <td>NaN</td>\n",
              "      <td>NaN</td>\n",
              "      <td>NaN</td>\n",
              "      <td>NaN</td>\n",
              "      <td>NaN</td>\n",
              "      <td>NaN</td>\n",
              "      <td>NaN</td>\n",
              "    </tr>\n",
              "    <tr>\n",
              "      <th>3</th>\n",
              "      <td>443f89c2-84e7-4a56-bea3-005c776e0121</td>\n",
              "      <td>2004</td>\n",
              "      <td>жіноча</td>\n",
              "      <td>Кіровоградська область</td>\n",
              "      <td>м.Кропивницький</td>\n",
              "      <td>Фортечний район міста</td>\n",
              "      <td>Випускник загальноосвітнього навчального закла...</td>\n",
              "      <td>місто</td>\n",
              "      <td>Біолого-хімічний</td>\n",
              "      <td>українська</td>\n",
              "      <td>...</td>\n",
              "      <td>NaN</td>\n",
              "      <td>NaN</td>\n",
              "      <td>NaN</td>\n",
              "      <td>NaN</td>\n",
              "      <td>NaN</td>\n",
              "      <td>NaN</td>\n",
              "      <td>NaN</td>\n",
              "      <td>NaN</td>\n",
              "      <td>NaN</td>\n",
              "      <td>NaN</td>\n",
              "    </tr>\n",
              "    <tr>\n",
              "      <th>4</th>\n",
              "      <td>0b7b2e81-a906-412f-ad74-005025fd9d29</td>\n",
              "      <td>2003</td>\n",
              "      <td>жіноча</td>\n",
              "      <td>Івано-Франківська область</td>\n",
              "      <td>Долинський район</td>\n",
              "      <td>м.Долина</td>\n",
              "      <td>Випускник загальноосвітнього навчального закла...</td>\n",
              "      <td>місто</td>\n",
              "      <td>Технологічний</td>\n",
              "      <td>українська</td>\n",
              "      <td>...</td>\n",
              "      <td>NaN</td>\n",
              "      <td>NaN</td>\n",
              "      <td>NaN</td>\n",
              "      <td>NaN</td>\n",
              "      <td>NaN</td>\n",
              "      <td>NaN</td>\n",
              "      <td>NaN</td>\n",
              "      <td>NaN</td>\n",
              "      <td>NaN</td>\n",
              "      <td>NaN</td>\n",
              "    </tr>\n",
              "  </tbody>\n",
              "</table>\n",
              "<p>5 rows × 147 columns</p>\n",
              "</div>\n",
              "      <button class=\"colab-df-convert\" onclick=\"convertToInteractive('df-a2b41a10-95d6-47ee-8d5d-254f120a0147')\"\n",
              "              title=\"Convert this dataframe to an interactive table.\"\n",
              "              style=\"display:none;\">\n",
              "        \n",
              "  <svg xmlns=\"http://www.w3.org/2000/svg\" height=\"24px\"viewBox=\"0 0 24 24\"\n",
              "       width=\"24px\">\n",
              "    <path d=\"M0 0h24v24H0V0z\" fill=\"none\"/>\n",
              "    <path d=\"M18.56 5.44l.94 2.06.94-2.06 2.06-.94-2.06-.94-.94-2.06-.94 2.06-2.06.94zm-11 1L8.5 8.5l.94-2.06 2.06-.94-2.06-.94L8.5 2.5l-.94 2.06-2.06.94zm10 10l.94 2.06.94-2.06 2.06-.94-2.06-.94-.94-2.06-.94 2.06-2.06.94z\"/><path d=\"M17.41 7.96l-1.37-1.37c-.4-.4-.92-.59-1.43-.59-.52 0-1.04.2-1.43.59L10.3 9.45l-7.72 7.72c-.78.78-.78 2.05 0 2.83L4 21.41c.39.39.9.59 1.41.59.51 0 1.02-.2 1.41-.59l7.78-7.78 2.81-2.81c.8-.78.8-2.07 0-2.86zM5.41 20L4 18.59l7.72-7.72 1.47 1.35L5.41 20z\"/>\n",
              "  </svg>\n",
              "      </button>\n",
              "      \n",
              "  <style>\n",
              "    .colab-df-container {\n",
              "      display:flex;\n",
              "      flex-wrap:wrap;\n",
              "      gap: 12px;\n",
              "    }\n",
              "\n",
              "    .colab-df-convert {\n",
              "      background-color: #E8F0FE;\n",
              "      border: none;\n",
              "      border-radius: 50%;\n",
              "      cursor: pointer;\n",
              "      display: none;\n",
              "      fill: #1967D2;\n",
              "      height: 32px;\n",
              "      padding: 0 0 0 0;\n",
              "      width: 32px;\n",
              "    }\n",
              "\n",
              "    .colab-df-convert:hover {\n",
              "      background-color: #E2EBFA;\n",
              "      box-shadow: 0px 1px 2px rgba(60, 64, 67, 0.3), 0px 1px 3px 1px rgba(60, 64, 67, 0.15);\n",
              "      fill: #174EA6;\n",
              "    }\n",
              "\n",
              "    [theme=dark] .colab-df-convert {\n",
              "      background-color: #3B4455;\n",
              "      fill: #D2E3FC;\n",
              "    }\n",
              "\n",
              "    [theme=dark] .colab-df-convert:hover {\n",
              "      background-color: #434B5C;\n",
              "      box-shadow: 0px 1px 3px 1px rgba(0, 0, 0, 0.15);\n",
              "      filter: drop-shadow(0px 1px 2px rgba(0, 0, 0, 0.3));\n",
              "      fill: #FFFFFF;\n",
              "    }\n",
              "  </style>\n",
              "\n",
              "      <script>\n",
              "        const buttonEl =\n",
              "          document.querySelector('#df-a2b41a10-95d6-47ee-8d5d-254f120a0147 button.colab-df-convert');\n",
              "        buttonEl.style.display =\n",
              "          google.colab.kernel.accessAllowed ? 'block' : 'none';\n",
              "\n",
              "        async function convertToInteractive(key) {\n",
              "          const element = document.querySelector('#df-a2b41a10-95d6-47ee-8d5d-254f120a0147');\n",
              "          const dataTable =\n",
              "            await google.colab.kernel.invokeFunction('convertToInteractive',\n",
              "                                                     [key], {});\n",
              "          if (!dataTable) return;\n",
              "\n",
              "          const docLinkHtml = 'Like what you see? Visit the ' +\n",
              "            '<a target=\"_blank\" href=https://colab.research.google.com/notebooks/data_table.ipynb>data table notebook</a>'\n",
              "            + ' to learn more about interactive tables.';\n",
              "          element.innerHTML = '';\n",
              "          dataTable['output_type'] = 'display_data';\n",
              "          await google.colab.output.renderOutput(dataTable, element);\n",
              "          const docLink = document.createElement('div');\n",
              "          docLink.innerHTML = docLinkHtml;\n",
              "          element.appendChild(docLink);\n",
              "        }\n",
              "      </script>\n",
              "    </div>\n",
              "  </div>\n",
              "  "
            ]
          },
          "metadata": {},
          "execution_count": 123
        }
      ],
      "source": [
        "print('NMT 2022 dataset')\n",
        "display(nmt_2022_df.head(5))\n",
        "print('EIT 2021 dataset')\n",
        "zno_2021_df.head(5)"
      ]
    },
    {
      "cell_type": "code",
      "execution_count": null,
      "id": "5c4d87b6",
      "metadata": {
        "colab": {
          "base_uri": "https://localhost:8080/",
          "height": 1000
        },
        "id": "5c4d87b6",
        "outputId": "d4229831-e0d1-4f44-84b0-c20804200385"
      },
      "outputs": [
        {
          "output_type": "display_data",
          "data": {
            "text/plain": [
              "                  count         mean        std     min     25%     50%  \\\n",
              "Birth          234104.0  2003.677746   3.783325  1952.0  2004.0  2005.0   \n",
              "Block1Ball100  214074.0   154.485645  18.912813     0.0   140.0   149.0   \n",
              "Block1Ball     214074.0    19.076604   7.616550     0.0    13.0    18.0   \n",
              "Block2Ball100  214074.0   151.103964  17.108930     0.0   140.0   148.0   \n",
              "Block2Ball     214074.0    17.826653   8.142661     0.0    11.0    16.0   \n",
              "Block3Ball100  214074.0   148.086363  19.556284     0.0   136.0   144.0   \n",
              "Block3Ball     214074.0    14.035960   7.734427     0.0     8.0    12.0   \n",
              "\n",
              "                  75%     max  \n",
              "Birth          2005.0  2009.0  \n",
              "Block1Ball100   169.0   200.0  \n",
              "Block1Ball       25.0    35.0  \n",
              "Block2Ball100   158.0   200.0  \n",
              "Block2Ball       24.0    35.0  \n",
              "Block3Ball100   156.0   200.0  \n",
              "Block3Ball       20.0    30.0  "
            ],
            "text/html": [
              "\n",
              "  <div id=\"df-3860e04d-c6a5-4568-90ab-722774191041\">\n",
              "    <div class=\"colab-df-container\">\n",
              "      <div>\n",
              "<style scoped>\n",
              "    .dataframe tbody tr th:only-of-type {\n",
              "        vertical-align: middle;\n",
              "    }\n",
              "\n",
              "    .dataframe tbody tr th {\n",
              "        vertical-align: top;\n",
              "    }\n",
              "\n",
              "    .dataframe thead th {\n",
              "        text-align: right;\n",
              "    }\n",
              "</style>\n",
              "<table border=\"1\" class=\"dataframe\">\n",
              "  <thead>\n",
              "    <tr style=\"text-align: right;\">\n",
              "      <th></th>\n",
              "      <th>count</th>\n",
              "      <th>mean</th>\n",
              "      <th>std</th>\n",
              "      <th>min</th>\n",
              "      <th>25%</th>\n",
              "      <th>50%</th>\n",
              "      <th>75%</th>\n",
              "      <th>max</th>\n",
              "    </tr>\n",
              "  </thead>\n",
              "  <tbody>\n",
              "    <tr>\n",
              "      <th>Birth</th>\n",
              "      <td>234104.0</td>\n",
              "      <td>2003.677746</td>\n",
              "      <td>3.783325</td>\n",
              "      <td>1952.0</td>\n",
              "      <td>2004.0</td>\n",
              "      <td>2005.0</td>\n",
              "      <td>2005.0</td>\n",
              "      <td>2009.0</td>\n",
              "    </tr>\n",
              "    <tr>\n",
              "      <th>Block1Ball100</th>\n",
              "      <td>214074.0</td>\n",
              "      <td>154.485645</td>\n",
              "      <td>18.912813</td>\n",
              "      <td>0.0</td>\n",
              "      <td>140.0</td>\n",
              "      <td>149.0</td>\n",
              "      <td>169.0</td>\n",
              "      <td>200.0</td>\n",
              "    </tr>\n",
              "    <tr>\n",
              "      <th>Block1Ball</th>\n",
              "      <td>214074.0</td>\n",
              "      <td>19.076604</td>\n",
              "      <td>7.616550</td>\n",
              "      <td>0.0</td>\n",
              "      <td>13.0</td>\n",
              "      <td>18.0</td>\n",
              "      <td>25.0</td>\n",
              "      <td>35.0</td>\n",
              "    </tr>\n",
              "    <tr>\n",
              "      <th>Block2Ball100</th>\n",
              "      <td>214074.0</td>\n",
              "      <td>151.103964</td>\n",
              "      <td>17.108930</td>\n",
              "      <td>0.0</td>\n",
              "      <td>140.0</td>\n",
              "      <td>148.0</td>\n",
              "      <td>158.0</td>\n",
              "      <td>200.0</td>\n",
              "    </tr>\n",
              "    <tr>\n",
              "      <th>Block2Ball</th>\n",
              "      <td>214074.0</td>\n",
              "      <td>17.826653</td>\n",
              "      <td>8.142661</td>\n",
              "      <td>0.0</td>\n",
              "      <td>11.0</td>\n",
              "      <td>16.0</td>\n",
              "      <td>24.0</td>\n",
              "      <td>35.0</td>\n",
              "    </tr>\n",
              "    <tr>\n",
              "      <th>Block3Ball100</th>\n",
              "      <td>214074.0</td>\n",
              "      <td>148.086363</td>\n",
              "      <td>19.556284</td>\n",
              "      <td>0.0</td>\n",
              "      <td>136.0</td>\n",
              "      <td>144.0</td>\n",
              "      <td>156.0</td>\n",
              "      <td>200.0</td>\n",
              "    </tr>\n",
              "    <tr>\n",
              "      <th>Block3Ball</th>\n",
              "      <td>214074.0</td>\n",
              "      <td>14.035960</td>\n",
              "      <td>7.734427</td>\n",
              "      <td>0.0</td>\n",
              "      <td>8.0</td>\n",
              "      <td>12.0</td>\n",
              "      <td>20.0</td>\n",
              "      <td>30.0</td>\n",
              "    </tr>\n",
              "  </tbody>\n",
              "</table>\n",
              "</div>\n",
              "      <button class=\"colab-df-convert\" onclick=\"convertToInteractive('df-3860e04d-c6a5-4568-90ab-722774191041')\"\n",
              "              title=\"Convert this dataframe to an interactive table.\"\n",
              "              style=\"display:none;\">\n",
              "        \n",
              "  <svg xmlns=\"http://www.w3.org/2000/svg\" height=\"24px\"viewBox=\"0 0 24 24\"\n",
              "       width=\"24px\">\n",
              "    <path d=\"M0 0h24v24H0V0z\" fill=\"none\"/>\n",
              "    <path d=\"M18.56 5.44l.94 2.06.94-2.06 2.06-.94-2.06-.94-.94-2.06-.94 2.06-2.06.94zm-11 1L8.5 8.5l.94-2.06 2.06-.94-2.06-.94L8.5 2.5l-.94 2.06-2.06.94zm10 10l.94 2.06.94-2.06 2.06-.94-2.06-.94-.94-2.06-.94 2.06-2.06.94z\"/><path d=\"M17.41 7.96l-1.37-1.37c-.4-.4-.92-.59-1.43-.59-.52 0-1.04.2-1.43.59L10.3 9.45l-7.72 7.72c-.78.78-.78 2.05 0 2.83L4 21.41c.39.39.9.59 1.41.59.51 0 1.02-.2 1.41-.59l7.78-7.78 2.81-2.81c.8-.78.8-2.07 0-2.86zM5.41 20L4 18.59l7.72-7.72 1.47 1.35L5.41 20z\"/>\n",
              "  </svg>\n",
              "      </button>\n",
              "      \n",
              "  <style>\n",
              "    .colab-df-container {\n",
              "      display:flex;\n",
              "      flex-wrap:wrap;\n",
              "      gap: 12px;\n",
              "    }\n",
              "\n",
              "    .colab-df-convert {\n",
              "      background-color: #E8F0FE;\n",
              "      border: none;\n",
              "      border-radius: 50%;\n",
              "      cursor: pointer;\n",
              "      display: none;\n",
              "      fill: #1967D2;\n",
              "      height: 32px;\n",
              "      padding: 0 0 0 0;\n",
              "      width: 32px;\n",
              "    }\n",
              "\n",
              "    .colab-df-convert:hover {\n",
              "      background-color: #E2EBFA;\n",
              "      box-shadow: 0px 1px 2px rgba(60, 64, 67, 0.3), 0px 1px 3px 1px rgba(60, 64, 67, 0.15);\n",
              "      fill: #174EA6;\n",
              "    }\n",
              "\n",
              "    [theme=dark] .colab-df-convert {\n",
              "      background-color: #3B4455;\n",
              "      fill: #D2E3FC;\n",
              "    }\n",
              "\n",
              "    [theme=dark] .colab-df-convert:hover {\n",
              "      background-color: #434B5C;\n",
              "      box-shadow: 0px 1px 3px 1px rgba(0, 0, 0, 0.15);\n",
              "      filter: drop-shadow(0px 1px 2px rgba(0, 0, 0, 0.3));\n",
              "      fill: #FFFFFF;\n",
              "    }\n",
              "  </style>\n",
              "\n",
              "      <script>\n",
              "        const buttonEl =\n",
              "          document.querySelector('#df-3860e04d-c6a5-4568-90ab-722774191041 button.colab-df-convert');\n",
              "        buttonEl.style.display =\n",
              "          google.colab.kernel.accessAllowed ? 'block' : 'none';\n",
              "\n",
              "        async function convertToInteractive(key) {\n",
              "          const element = document.querySelector('#df-3860e04d-c6a5-4568-90ab-722774191041');\n",
              "          const dataTable =\n",
              "            await google.colab.kernel.invokeFunction('convertToInteractive',\n",
              "                                                     [key], {});\n",
              "          if (!dataTable) return;\n",
              "\n",
              "          const docLinkHtml = 'Like what you see? Visit the ' +\n",
              "            '<a target=\"_blank\" href=https://colab.research.google.com/notebooks/data_table.ipynb>data table notebook</a>'\n",
              "            + ' to learn more about interactive tables.';\n",
              "          element.innerHTML = '';\n",
              "          dataTable['output_type'] = 'display_data';\n",
              "          await google.colab.output.renderOutput(dataTable, element);\n",
              "          const docLink = document.createElement('div');\n",
              "          docLink.innerHTML = docLinkHtml;\n",
              "          element.appendChild(docLink);\n",
              "        }\n",
              "      </script>\n",
              "    </div>\n",
              "  </div>\n",
              "  "
            ]
          },
          "metadata": {}
        },
        {
          "output_type": "display_data",
          "data": {
            "text/plain": [
              "                  count         mean        std     min      25%     50%  \\\n",
              "Birth          389323.0  2002.788905   3.261747  1951.0  2003.00  2004.0   \n",
              "UMLBall100     222248.0   132.187124  46.457227     0.0   116.00   137.0   \n",
              "UMLBall12      199829.0     6.770729   2.488882     1.0     5.00     7.0   \n",
              "UMLBall        222248.0    57.485917  23.705681     0.0    39.00    54.0   \n",
              "UMLAdaptScale  250681.0     0.013563   0.266844     0.0     0.00     0.0   \n",
              "UkrBall100     288837.0   133.598230  45.616200     0.0   115.00   139.0   \n",
              "UkrBall12       60962.0     6.607805   2.649726     1.0     4.00     6.0   \n",
              "UkrBall        288837.0    37.529555  15.217836     0.0    25.00    36.0   \n",
              "UkrAdaptScale  373963.0     0.020023   0.340236     0.0     0.00     0.0   \n",
              "HistBall100    199373.0   111.670728  57.026783     0.0   103.00   124.0   \n",
              "HistBall12     178526.0     7.294697   2.045434     1.0     6.00     7.0   \n",
              "HistBall       199373.0    39.283980  15.366882     0.0    28.00    35.0   \n",
              "MathBall100    244202.0    95.058869  67.542058     0.0     0.00   116.0   \n",
              "MathBall12     220216.0     5.319554   2.736655     1.0     3.00     5.0   \n",
              "MathBall       244202.0    19.605118  14.488172     0.0     8.00    14.0   \n",
              "MathStBall12     8618.0     3.532606   1.743016     1.0     2.00     3.0   \n",
              "MathStBall          0.0          NaN        NaN     NaN      NaN     NaN   \n",
              "PhysBall100     23202.0   125.996293  45.265493     0.0   113.00   131.0   \n",
              "PhysBall12      18474.0     6.052452   2.416182     1.0     4.00     5.0   \n",
              "PhysBall        23202.0    24.353892  12.347006     0.0    16.00    21.0   \n",
              "ChemBall100      9809.0   126.095219  50.633200     0.0   110.00   133.0   \n",
              "ChemBall12       5070.0     6.435503   2.515778     1.0     4.00     6.0   \n",
              "ChemBall         9809.0    31.528596  16.063039     2.0    18.00    28.0   \n",
              "BioBall100      81412.0   138.681067  32.619154     0.0   120.00   138.0   \n",
              "BioBall12       63865.0     6.931058   1.964068     1.0     6.00     7.0   \n",
              "BioBall         81412.0    42.509458  13.116726     0.0    33.00    40.0   \n",
              "GeoBall100     113116.0   133.925090  40.205748     0.0   118.00   138.0   \n",
              "GeoBall12       96456.0     6.705109   1.983704     1.0     5.00     6.0   \n",
              "GeoBall        113116.0    44.719606  14.879026     0.0    34.00    43.0   \n",
              "EngBall100     127714.0   131.702507  52.782480     0.0   114.00   141.0   \n",
              "EngBall12      111445.0     7.531141   2.800734     1.0     5.00     8.0   \n",
              "EngBall        127714.0    39.674170  16.758247     0.0    25.00    39.0   \n",
              "FraBall100        414.0   138.398551  50.818036     0.0   120.50   150.0   \n",
              "FraBall12         275.0     7.523636   2.676333     2.0     5.00     8.0   \n",
              "FraBall           414.0    42.352657  16.621153    10.0    28.25    44.0   \n",
              "DeuBall100       1825.0   133.922740  54.800786     0.0   116.00   148.0   \n",
              "DeuBall12        1212.0     7.792904   2.628218     1.0     6.00     8.0   \n",
              "DeuBall          1825.0    41.213151  17.044834     0.0    26.00    43.0   \n",
              "SpaBall100        150.0   135.953333  64.475825     0.0   112.50   163.0   \n",
              "SpaBall12          39.0     8.333333   2.688507     3.0     6.00     8.0   \n",
              "SpaBall           150.0    44.206667  19.995065     9.0    24.25    51.0   \n",
              "\n",
              "                  75%     max  \n",
              "Birth          2004.0  2007.0  \n",
              "UMLBall100      163.0   200.0  \n",
              "UMLBall12         9.0    12.0  \n",
              "UMLBall          75.0   116.0  \n",
              "UMLAdaptScale     0.0     7.0  \n",
              "UkrBall100      164.0   200.0  \n",
              "UkrBall12         9.0    12.0  \n",
              "UkrBall          49.0    74.0  \n",
              "UkrAdaptScale     0.0     7.0  \n",
              "HistBall100     148.0   200.0  \n",
              "HistBall12        9.0    12.0  \n",
              "HistBall         46.0    94.0  \n",
              "MathBall100     147.0   200.0  \n",
              "MathBall12        7.0    12.0  \n",
              "MathBall         28.0    67.0  \n",
              "MathStBall12      4.0    12.0  \n",
              "MathStBall        NaN     NaN  \n",
              "PhysBall100     153.0   200.0  \n",
              "PhysBall12        8.0    12.0  \n",
              "PhysBall         30.0    64.0  \n",
              "ChemBall100     159.0   200.0  \n",
              "ChemBall12        8.0    12.0  \n",
              "ChemBall         42.0    74.0  \n",
              "BioBall100      160.0   200.0  \n",
              "BioBall12         8.0    12.0  \n",
              "BioBall          50.0    82.0  \n",
              "GeoBall100      161.0   200.0  \n",
              "GeoBall12         8.0    12.0  \n",
              "GeoBall          55.0    89.0  \n",
              "EngBall100      169.0   200.0  \n",
              "EngBall12        10.0    12.0  \n",
              "EngBall          54.0    72.0  \n",
              "FraBall100      174.0   199.0  \n",
              "FraBall12        10.0    12.0  \n",
              "FraBall          57.0    71.0  \n",
              "DeuBall100      173.0   199.0  \n",
              "DeuBall12        10.0    12.0  \n",
              "DeuBall          56.0    71.0  \n",
              "SpaBall100      182.0   200.0  \n",
              "SpaBall12        10.0    12.0  \n",
              "SpaBall          61.0    72.0  "
            ],
            "text/html": [
              "\n",
              "  <div id=\"df-a1ad0d97-599f-4e04-bc9c-bbd03139a05f\">\n",
              "    <div class=\"colab-df-container\">\n",
              "      <div>\n",
              "<style scoped>\n",
              "    .dataframe tbody tr th:only-of-type {\n",
              "        vertical-align: middle;\n",
              "    }\n",
              "\n",
              "    .dataframe tbody tr th {\n",
              "        vertical-align: top;\n",
              "    }\n",
              "\n",
              "    .dataframe thead th {\n",
              "        text-align: right;\n",
              "    }\n",
              "</style>\n",
              "<table border=\"1\" class=\"dataframe\">\n",
              "  <thead>\n",
              "    <tr style=\"text-align: right;\">\n",
              "      <th></th>\n",
              "      <th>count</th>\n",
              "      <th>mean</th>\n",
              "      <th>std</th>\n",
              "      <th>min</th>\n",
              "      <th>25%</th>\n",
              "      <th>50%</th>\n",
              "      <th>75%</th>\n",
              "      <th>max</th>\n",
              "    </tr>\n",
              "  </thead>\n",
              "  <tbody>\n",
              "    <tr>\n",
              "      <th>Birth</th>\n",
              "      <td>389323.0</td>\n",
              "      <td>2002.788905</td>\n",
              "      <td>3.261747</td>\n",
              "      <td>1951.0</td>\n",
              "      <td>2003.00</td>\n",
              "      <td>2004.0</td>\n",
              "      <td>2004.0</td>\n",
              "      <td>2007.0</td>\n",
              "    </tr>\n",
              "    <tr>\n",
              "      <th>UMLBall100</th>\n",
              "      <td>222248.0</td>\n",
              "      <td>132.187124</td>\n",
              "      <td>46.457227</td>\n",
              "      <td>0.0</td>\n",
              "      <td>116.00</td>\n",
              "      <td>137.0</td>\n",
              "      <td>163.0</td>\n",
              "      <td>200.0</td>\n",
              "    </tr>\n",
              "    <tr>\n",
              "      <th>UMLBall12</th>\n",
              "      <td>199829.0</td>\n",
              "      <td>6.770729</td>\n",
              "      <td>2.488882</td>\n",
              "      <td>1.0</td>\n",
              "      <td>5.00</td>\n",
              "      <td>7.0</td>\n",
              "      <td>9.0</td>\n",
              "      <td>12.0</td>\n",
              "    </tr>\n",
              "    <tr>\n",
              "      <th>UMLBall</th>\n",
              "      <td>222248.0</td>\n",
              "      <td>57.485917</td>\n",
              "      <td>23.705681</td>\n",
              "      <td>0.0</td>\n",
              "      <td>39.00</td>\n",
              "      <td>54.0</td>\n",
              "      <td>75.0</td>\n",
              "      <td>116.0</td>\n",
              "    </tr>\n",
              "    <tr>\n",
              "      <th>UMLAdaptScale</th>\n",
              "      <td>250681.0</td>\n",
              "      <td>0.013563</td>\n",
              "      <td>0.266844</td>\n",
              "      <td>0.0</td>\n",
              "      <td>0.00</td>\n",
              "      <td>0.0</td>\n",
              "      <td>0.0</td>\n",
              "      <td>7.0</td>\n",
              "    </tr>\n",
              "    <tr>\n",
              "      <th>UkrBall100</th>\n",
              "      <td>288837.0</td>\n",
              "      <td>133.598230</td>\n",
              "      <td>45.616200</td>\n",
              "      <td>0.0</td>\n",
              "      <td>115.00</td>\n",
              "      <td>139.0</td>\n",
              "      <td>164.0</td>\n",
              "      <td>200.0</td>\n",
              "    </tr>\n",
              "    <tr>\n",
              "      <th>UkrBall12</th>\n",
              "      <td>60962.0</td>\n",
              "      <td>6.607805</td>\n",
              "      <td>2.649726</td>\n",
              "      <td>1.0</td>\n",
              "      <td>4.00</td>\n",
              "      <td>6.0</td>\n",
              "      <td>9.0</td>\n",
              "      <td>12.0</td>\n",
              "    </tr>\n",
              "    <tr>\n",
              "      <th>UkrBall</th>\n",
              "      <td>288837.0</td>\n",
              "      <td>37.529555</td>\n",
              "      <td>15.217836</td>\n",
              "      <td>0.0</td>\n",
              "      <td>25.00</td>\n",
              "      <td>36.0</td>\n",
              "      <td>49.0</td>\n",
              "      <td>74.0</td>\n",
              "    </tr>\n",
              "    <tr>\n",
              "      <th>UkrAdaptScale</th>\n",
              "      <td>373963.0</td>\n",
              "      <td>0.020023</td>\n",
              "      <td>0.340236</td>\n",
              "      <td>0.0</td>\n",
              "      <td>0.00</td>\n",
              "      <td>0.0</td>\n",
              "      <td>0.0</td>\n",
              "      <td>7.0</td>\n",
              "    </tr>\n",
              "    <tr>\n",
              "      <th>HistBall100</th>\n",
              "      <td>199373.0</td>\n",
              "      <td>111.670728</td>\n",
              "      <td>57.026783</td>\n",
              "      <td>0.0</td>\n",
              "      <td>103.00</td>\n",
              "      <td>124.0</td>\n",
              "      <td>148.0</td>\n",
              "      <td>200.0</td>\n",
              "    </tr>\n",
              "    <tr>\n",
              "      <th>HistBall12</th>\n",
              "      <td>178526.0</td>\n",
              "      <td>7.294697</td>\n",
              "      <td>2.045434</td>\n",
              "      <td>1.0</td>\n",
              "      <td>6.00</td>\n",
              "      <td>7.0</td>\n",
              "      <td>9.0</td>\n",
              "      <td>12.0</td>\n",
              "    </tr>\n",
              "    <tr>\n",
              "      <th>HistBall</th>\n",
              "      <td>199373.0</td>\n",
              "      <td>39.283980</td>\n",
              "      <td>15.366882</td>\n",
              "      <td>0.0</td>\n",
              "      <td>28.00</td>\n",
              "      <td>35.0</td>\n",
              "      <td>46.0</td>\n",
              "      <td>94.0</td>\n",
              "    </tr>\n",
              "    <tr>\n",
              "      <th>MathBall100</th>\n",
              "      <td>244202.0</td>\n",
              "      <td>95.058869</td>\n",
              "      <td>67.542058</td>\n",
              "      <td>0.0</td>\n",
              "      <td>0.00</td>\n",
              "      <td>116.0</td>\n",
              "      <td>147.0</td>\n",
              "      <td>200.0</td>\n",
              "    </tr>\n",
              "    <tr>\n",
              "      <th>MathBall12</th>\n",
              "      <td>220216.0</td>\n",
              "      <td>5.319554</td>\n",
              "      <td>2.736655</td>\n",
              "      <td>1.0</td>\n",
              "      <td>3.00</td>\n",
              "      <td>5.0</td>\n",
              "      <td>7.0</td>\n",
              "      <td>12.0</td>\n",
              "    </tr>\n",
              "    <tr>\n",
              "      <th>MathBall</th>\n",
              "      <td>244202.0</td>\n",
              "      <td>19.605118</td>\n",
              "      <td>14.488172</td>\n",
              "      <td>0.0</td>\n",
              "      <td>8.00</td>\n",
              "      <td>14.0</td>\n",
              "      <td>28.0</td>\n",
              "      <td>67.0</td>\n",
              "    </tr>\n",
              "    <tr>\n",
              "      <th>MathStBall12</th>\n",
              "      <td>8618.0</td>\n",
              "      <td>3.532606</td>\n",
              "      <td>1.743016</td>\n",
              "      <td>1.0</td>\n",
              "      <td>2.00</td>\n",
              "      <td>3.0</td>\n",
              "      <td>4.0</td>\n",
              "      <td>12.0</td>\n",
              "    </tr>\n",
              "    <tr>\n",
              "      <th>MathStBall</th>\n",
              "      <td>0.0</td>\n",
              "      <td>NaN</td>\n",
              "      <td>NaN</td>\n",
              "      <td>NaN</td>\n",
              "      <td>NaN</td>\n",
              "      <td>NaN</td>\n",
              "      <td>NaN</td>\n",
              "      <td>NaN</td>\n",
              "    </tr>\n",
              "    <tr>\n",
              "      <th>PhysBall100</th>\n",
              "      <td>23202.0</td>\n",
              "      <td>125.996293</td>\n",
              "      <td>45.265493</td>\n",
              "      <td>0.0</td>\n",
              "      <td>113.00</td>\n",
              "      <td>131.0</td>\n",
              "      <td>153.0</td>\n",
              "      <td>200.0</td>\n",
              "    </tr>\n",
              "    <tr>\n",
              "      <th>PhysBall12</th>\n",
              "      <td>18474.0</td>\n",
              "      <td>6.052452</td>\n",
              "      <td>2.416182</td>\n",
              "      <td>1.0</td>\n",
              "      <td>4.00</td>\n",
              "      <td>5.0</td>\n",
              "      <td>8.0</td>\n",
              "      <td>12.0</td>\n",
              "    </tr>\n",
              "    <tr>\n",
              "      <th>PhysBall</th>\n",
              "      <td>23202.0</td>\n",
              "      <td>24.353892</td>\n",
              "      <td>12.347006</td>\n",
              "      <td>0.0</td>\n",
              "      <td>16.00</td>\n",
              "      <td>21.0</td>\n",
              "      <td>30.0</td>\n",
              "      <td>64.0</td>\n",
              "    </tr>\n",
              "    <tr>\n",
              "      <th>ChemBall100</th>\n",
              "      <td>9809.0</td>\n",
              "      <td>126.095219</td>\n",
              "      <td>50.633200</td>\n",
              "      <td>0.0</td>\n",
              "      <td>110.00</td>\n",
              "      <td>133.0</td>\n",
              "      <td>159.0</td>\n",
              "      <td>200.0</td>\n",
              "    </tr>\n",
              "    <tr>\n",
              "      <th>ChemBall12</th>\n",
              "      <td>5070.0</td>\n",
              "      <td>6.435503</td>\n",
              "      <td>2.515778</td>\n",
              "      <td>1.0</td>\n",
              "      <td>4.00</td>\n",
              "      <td>6.0</td>\n",
              "      <td>8.0</td>\n",
              "      <td>12.0</td>\n",
              "    </tr>\n",
              "    <tr>\n",
              "      <th>ChemBall</th>\n",
              "      <td>9809.0</td>\n",
              "      <td>31.528596</td>\n",
              "      <td>16.063039</td>\n",
              "      <td>2.0</td>\n",
              "      <td>18.00</td>\n",
              "      <td>28.0</td>\n",
              "      <td>42.0</td>\n",
              "      <td>74.0</td>\n",
              "    </tr>\n",
              "    <tr>\n",
              "      <th>BioBall100</th>\n",
              "      <td>81412.0</td>\n",
              "      <td>138.681067</td>\n",
              "      <td>32.619154</td>\n",
              "      <td>0.0</td>\n",
              "      <td>120.00</td>\n",
              "      <td>138.0</td>\n",
              "      <td>160.0</td>\n",
              "      <td>200.0</td>\n",
              "    </tr>\n",
              "    <tr>\n",
              "      <th>BioBall12</th>\n",
              "      <td>63865.0</td>\n",
              "      <td>6.931058</td>\n",
              "      <td>1.964068</td>\n",
              "      <td>1.0</td>\n",
              "      <td>6.00</td>\n",
              "      <td>7.0</td>\n",
              "      <td>8.0</td>\n",
              "      <td>12.0</td>\n",
              "    </tr>\n",
              "    <tr>\n",
              "      <th>BioBall</th>\n",
              "      <td>81412.0</td>\n",
              "      <td>42.509458</td>\n",
              "      <td>13.116726</td>\n",
              "      <td>0.0</td>\n",
              "      <td>33.00</td>\n",
              "      <td>40.0</td>\n",
              "      <td>50.0</td>\n",
              "      <td>82.0</td>\n",
              "    </tr>\n",
              "    <tr>\n",
              "      <th>GeoBall100</th>\n",
              "      <td>113116.0</td>\n",
              "      <td>133.925090</td>\n",
              "      <td>40.205748</td>\n",
              "      <td>0.0</td>\n",
              "      <td>118.00</td>\n",
              "      <td>138.0</td>\n",
              "      <td>161.0</td>\n",
              "      <td>200.0</td>\n",
              "    </tr>\n",
              "    <tr>\n",
              "      <th>GeoBall12</th>\n",
              "      <td>96456.0</td>\n",
              "      <td>6.705109</td>\n",
              "      <td>1.983704</td>\n",
              "      <td>1.0</td>\n",
              "      <td>5.00</td>\n",
              "      <td>6.0</td>\n",
              "      <td>8.0</td>\n",
              "      <td>12.0</td>\n",
              "    </tr>\n",
              "    <tr>\n",
              "      <th>GeoBall</th>\n",
              "      <td>113116.0</td>\n",
              "      <td>44.719606</td>\n",
              "      <td>14.879026</td>\n",
              "      <td>0.0</td>\n",
              "      <td>34.00</td>\n",
              "      <td>43.0</td>\n",
              "      <td>55.0</td>\n",
              "      <td>89.0</td>\n",
              "    </tr>\n",
              "    <tr>\n",
              "      <th>EngBall100</th>\n",
              "      <td>127714.0</td>\n",
              "      <td>131.702507</td>\n",
              "      <td>52.782480</td>\n",
              "      <td>0.0</td>\n",
              "      <td>114.00</td>\n",
              "      <td>141.0</td>\n",
              "      <td>169.0</td>\n",
              "      <td>200.0</td>\n",
              "    </tr>\n",
              "    <tr>\n",
              "      <th>EngBall12</th>\n",
              "      <td>111445.0</td>\n",
              "      <td>7.531141</td>\n",
              "      <td>2.800734</td>\n",
              "      <td>1.0</td>\n",
              "      <td>5.00</td>\n",
              "      <td>8.0</td>\n",
              "      <td>10.0</td>\n",
              "      <td>12.0</td>\n",
              "    </tr>\n",
              "    <tr>\n",
              "      <th>EngBall</th>\n",
              "      <td>127714.0</td>\n",
              "      <td>39.674170</td>\n",
              "      <td>16.758247</td>\n",
              "      <td>0.0</td>\n",
              "      <td>25.00</td>\n",
              "      <td>39.0</td>\n",
              "      <td>54.0</td>\n",
              "      <td>72.0</td>\n",
              "    </tr>\n",
              "    <tr>\n",
              "      <th>FraBall100</th>\n",
              "      <td>414.0</td>\n",
              "      <td>138.398551</td>\n",
              "      <td>50.818036</td>\n",
              "      <td>0.0</td>\n",
              "      <td>120.50</td>\n",
              "      <td>150.0</td>\n",
              "      <td>174.0</td>\n",
              "      <td>199.0</td>\n",
              "    </tr>\n",
              "    <tr>\n",
              "      <th>FraBall12</th>\n",
              "      <td>275.0</td>\n",
              "      <td>7.523636</td>\n",
              "      <td>2.676333</td>\n",
              "      <td>2.0</td>\n",
              "      <td>5.00</td>\n",
              "      <td>8.0</td>\n",
              "      <td>10.0</td>\n",
              "      <td>12.0</td>\n",
              "    </tr>\n",
              "    <tr>\n",
              "      <th>FraBall</th>\n",
              "      <td>414.0</td>\n",
              "      <td>42.352657</td>\n",
              "      <td>16.621153</td>\n",
              "      <td>10.0</td>\n",
              "      <td>28.25</td>\n",
              "      <td>44.0</td>\n",
              "      <td>57.0</td>\n",
              "      <td>71.0</td>\n",
              "    </tr>\n",
              "    <tr>\n",
              "      <th>DeuBall100</th>\n",
              "      <td>1825.0</td>\n",
              "      <td>133.922740</td>\n",
              "      <td>54.800786</td>\n",
              "      <td>0.0</td>\n",
              "      <td>116.00</td>\n",
              "      <td>148.0</td>\n",
              "      <td>173.0</td>\n",
              "      <td>199.0</td>\n",
              "    </tr>\n",
              "    <tr>\n",
              "      <th>DeuBall12</th>\n",
              "      <td>1212.0</td>\n",
              "      <td>7.792904</td>\n",
              "      <td>2.628218</td>\n",
              "      <td>1.0</td>\n",
              "      <td>6.00</td>\n",
              "      <td>8.0</td>\n",
              "      <td>10.0</td>\n",
              "      <td>12.0</td>\n",
              "    </tr>\n",
              "    <tr>\n",
              "      <th>DeuBall</th>\n",
              "      <td>1825.0</td>\n",
              "      <td>41.213151</td>\n",
              "      <td>17.044834</td>\n",
              "      <td>0.0</td>\n",
              "      <td>26.00</td>\n",
              "      <td>43.0</td>\n",
              "      <td>56.0</td>\n",
              "      <td>71.0</td>\n",
              "    </tr>\n",
              "    <tr>\n",
              "      <th>SpaBall100</th>\n",
              "      <td>150.0</td>\n",
              "      <td>135.953333</td>\n",
              "      <td>64.475825</td>\n",
              "      <td>0.0</td>\n",
              "      <td>112.50</td>\n",
              "      <td>163.0</td>\n",
              "      <td>182.0</td>\n",
              "      <td>200.0</td>\n",
              "    </tr>\n",
              "    <tr>\n",
              "      <th>SpaBall12</th>\n",
              "      <td>39.0</td>\n",
              "      <td>8.333333</td>\n",
              "      <td>2.688507</td>\n",
              "      <td>3.0</td>\n",
              "      <td>6.00</td>\n",
              "      <td>8.0</td>\n",
              "      <td>10.0</td>\n",
              "      <td>12.0</td>\n",
              "    </tr>\n",
              "    <tr>\n",
              "      <th>SpaBall</th>\n",
              "      <td>150.0</td>\n",
              "      <td>44.206667</td>\n",
              "      <td>19.995065</td>\n",
              "      <td>9.0</td>\n",
              "      <td>24.25</td>\n",
              "      <td>51.0</td>\n",
              "      <td>61.0</td>\n",
              "      <td>72.0</td>\n",
              "    </tr>\n",
              "  </tbody>\n",
              "</table>\n",
              "</div>\n",
              "      <button class=\"colab-df-convert\" onclick=\"convertToInteractive('df-a1ad0d97-599f-4e04-bc9c-bbd03139a05f')\"\n",
              "              title=\"Convert this dataframe to an interactive table.\"\n",
              "              style=\"display:none;\">\n",
              "        \n",
              "  <svg xmlns=\"http://www.w3.org/2000/svg\" height=\"24px\"viewBox=\"0 0 24 24\"\n",
              "       width=\"24px\">\n",
              "    <path d=\"M0 0h24v24H0V0z\" fill=\"none\"/>\n",
              "    <path d=\"M18.56 5.44l.94 2.06.94-2.06 2.06-.94-2.06-.94-.94-2.06-.94 2.06-2.06.94zm-11 1L8.5 8.5l.94-2.06 2.06-.94-2.06-.94L8.5 2.5l-.94 2.06-2.06.94zm10 10l.94 2.06.94-2.06 2.06-.94-2.06-.94-.94-2.06-.94 2.06-2.06.94z\"/><path d=\"M17.41 7.96l-1.37-1.37c-.4-.4-.92-.59-1.43-.59-.52 0-1.04.2-1.43.59L10.3 9.45l-7.72 7.72c-.78.78-.78 2.05 0 2.83L4 21.41c.39.39.9.59 1.41.59.51 0 1.02-.2 1.41-.59l7.78-7.78 2.81-2.81c.8-.78.8-2.07 0-2.86zM5.41 20L4 18.59l7.72-7.72 1.47 1.35L5.41 20z\"/>\n",
              "  </svg>\n",
              "      </button>\n",
              "      \n",
              "  <style>\n",
              "    .colab-df-container {\n",
              "      display:flex;\n",
              "      flex-wrap:wrap;\n",
              "      gap: 12px;\n",
              "    }\n",
              "\n",
              "    .colab-df-convert {\n",
              "      background-color: #E8F0FE;\n",
              "      border: none;\n",
              "      border-radius: 50%;\n",
              "      cursor: pointer;\n",
              "      display: none;\n",
              "      fill: #1967D2;\n",
              "      height: 32px;\n",
              "      padding: 0 0 0 0;\n",
              "      width: 32px;\n",
              "    }\n",
              "\n",
              "    .colab-df-convert:hover {\n",
              "      background-color: #E2EBFA;\n",
              "      box-shadow: 0px 1px 2px rgba(60, 64, 67, 0.3), 0px 1px 3px 1px rgba(60, 64, 67, 0.15);\n",
              "      fill: #174EA6;\n",
              "    }\n",
              "\n",
              "    [theme=dark] .colab-df-convert {\n",
              "      background-color: #3B4455;\n",
              "      fill: #D2E3FC;\n",
              "    }\n",
              "\n",
              "    [theme=dark] .colab-df-convert:hover {\n",
              "      background-color: #434B5C;\n",
              "      box-shadow: 0px 1px 3px 1px rgba(0, 0, 0, 0.15);\n",
              "      filter: drop-shadow(0px 1px 2px rgba(0, 0, 0, 0.3));\n",
              "      fill: #FFFFFF;\n",
              "    }\n",
              "  </style>\n",
              "\n",
              "      <script>\n",
              "        const buttonEl =\n",
              "          document.querySelector('#df-a1ad0d97-599f-4e04-bc9c-bbd03139a05f button.colab-df-convert');\n",
              "        buttonEl.style.display =\n",
              "          google.colab.kernel.accessAllowed ? 'block' : 'none';\n",
              "\n",
              "        async function convertToInteractive(key) {\n",
              "          const element = document.querySelector('#df-a1ad0d97-599f-4e04-bc9c-bbd03139a05f');\n",
              "          const dataTable =\n",
              "            await google.colab.kernel.invokeFunction('convertToInteractive',\n",
              "                                                     [key], {});\n",
              "          if (!dataTable) return;\n",
              "\n",
              "          const docLinkHtml = 'Like what you see? Visit the ' +\n",
              "            '<a target=\"_blank\" href=https://colab.research.google.com/notebooks/data_table.ipynb>data table notebook</a>'\n",
              "            + ' to learn more about interactive tables.';\n",
              "          element.innerHTML = '';\n",
              "          dataTable['output_type'] = 'display_data';\n",
              "          await google.colab.output.renderOutput(dataTable, element);\n",
              "          const docLink = document.createElement('div');\n",
              "          docLink.innerHTML = docLinkHtml;\n",
              "          element.appendChild(docLink);\n",
              "        }\n",
              "      </script>\n",
              "    </div>\n",
              "  </div>\n",
              "  "
            ]
          },
          "metadata": {}
        }
      ],
      "source": [
        "display(nmt_2022_df.describe().T)\n",
        "display(zno_2021_df.describe().T)"
      ]
    },
    {
      "cell_type": "code",
      "execution_count": null,
      "id": "4ee8e742",
      "metadata": {
        "colab": {
          "base_uri": "https://localhost:8080/",
          "height": 1000
        },
        "id": "4ee8e742",
        "outputId": "a68fb2fb-d9bf-4cdb-c512-341d95fb5386"
      },
      "outputs": [
        {
          "output_type": "stream",
          "name": "stderr",
          "text": [
            "<ipython-input-125-8b668f01b3f1>:3: DeprecationWarning: `np.object` is a deprecated alias for the builtin `object`. To silence this warning, use `object` by itself. Doing this will not modify any behavior and is safe. \n",
            "Deprecated in NumPy 1.20; for more details and guidance: https://numpy.org/devdocs/release/1.20.0-notes.html#deprecations\n",
            "  cat_zno = zno_2021_df.columns[~zno_2021_df.columns.isin(same_col)][zno_2021_df.dtypes[~zno_2021_df.columns.isin(same_col)] == np.object]\n",
            "<ipython-input-125-8b668f01b3f1>:4: DeprecationWarning: `np.object` is a deprecated alias for the builtin `object`. To silence this warning, use `object` by itself. Doing this will not modify any behavior and is safe. \n",
            "Deprecated in NumPy 1.20; for more details and guidance: https://numpy.org/devdocs/release/1.20.0-notes.html#deprecations\n",
            "  cat_nmt = nmt_2022_df.columns[~nmt_2022_df.columns.isin(same_col)][nmt_2022_df.dtypes[~nmt_2022_df.columns.isin(same_col)] == np.object]\n"
          ]
        },
        {
          "output_type": "display_data",
          "data": {
            "text/plain": [
              "<IPython.core.display.Markdown object>"
            ],
            "text/markdown": "The same features for **EIT** and **NMT**\n+ OUTID\n+ Birth\n+ SexTypeName\n+ RegName\n+ AREANAME\n+ TERNAME\n+ RegTypeName\n+ TerTypeName\n+ EONAME\n+ EOTypeName\n+ EORegName\n+ EOAreaName\n+ EOTerName\n+ EOParent"
          },
          "metadata": {}
        },
        {
          "output_type": "display_data",
          "data": {
            "text/plain": [
              "<IPython.core.display.Markdown object>"
            ],
            "text/markdown": "Categorical **EIT** \n+ ClassProfileNAME\n+ ClassLangName\n+ UMLTest\n+ UMLTestStatus\n+ UMLPTName\n+ UMLPTRegName\n+ UMLPTAreaName\n+ UMLPTTerName\n+ UkrTest\n+ UkrSubTest\n+ UkrTestStatus\n+ UkrPTName\n+ UkrPTRegName\n+ UkrPTAreaName\n+ UkrPTTerName\n+ HistTest\n+ HistLang\n+ HistTestStatus\n+ HistPTName\n+ HistPTRegName\n+ HistPTAreaName\n+ HistPTTerName\n+ MathTest\n+ MathLang\n+ MathTestStatus\n+ MathDpaLevel\n+ MathPTName\n+ MathPTRegName\n+ MathPTAreaName\n+ MathPTTerName\n+ MathStTest\n+ MathStLang\n+ MathStTestStatus\n+ MathStPTName\n+ MathStPTRegName\n+ MathStPTAreaName\n+ MathStPTTerName\n+ PhysTest\n+ PhysLang\n+ PhysTestStatus\n+ PhysPTName\n+ PhysPTRegName\n+ PhysPTAreaName\n+ PhysPTTerName\n+ ChemTest\n+ ChemLang\n+ ChemTestStatus\n+ ChemPTName\n+ ChemPTRegName\n+ ChemPTAreaName\n+ ChemPTTerName\n+ BioTest\n+ BioLang\n+ BioTestStatus\n+ BioPTName\n+ BioPTRegName\n+ BioPTAreaName\n+ BioPTTerName\n+ GeoTest\n+ GeoLang\n+ GeoTestStatus\n+ GeoPTName\n+ GeoPTRegName\n+ GeoPTAreaName\n+ GeoPTTerName\n+ EngTest\n+ EngTestStatus\n+ EngDPALevel\n+ EngPTName\n+ EngPTRegName\n+ EngPTAreaName\n+ EngPTTerName\n+ FraTest\n+ FraTestStatus\n+ FraDPALevel\n+ FraPTName\n+ FraPTRegName\n+ FraPTAreaName\n+ FraPTTerName\n+ DeuTest\n+ DeuTestStatus\n+ DeuDPALevel\n+ DeuPTName\n+ DeuPTRegName\n+ DeuPTAreaName\n+ DeuPTTerName\n+ SpaTest\n+ SpaTestStatus\n+ SpaDPALevel\n+ SpaPTName\n+ SpaPTRegName\n+ SpaPTAreaName\n+ SpaPTTerName"
          },
          "metadata": {}
        },
        {
          "output_type": "display_data",
          "data": {
            "text/plain": [
              "<IPython.core.display.Markdown object>"
            ],
            "text/markdown": "Categorical **NMT** \n+ Test\n+ TestDate\n+ TestStatus\n+ Block1\n+ Block2\n+ Block3\n+ PTRegName\n+ PTAreaName\n+ PTTerName"
          },
          "metadata": {}
        }
      ],
      "source": [
        "same_col_indx = zno_2021_df.columns.isin(nmt_2022_df.columns)\n",
        "same_col = zno_2021_df.columns[same_col_indx]\n",
        "cat_zno = zno_2021_df.columns[~zno_2021_df.columns.isin(same_col)][zno_2021_df.dtypes[~zno_2021_df.columns.isin(same_col)] == np.object]\n",
        "cat_nmt = nmt_2022_df.columns[~nmt_2022_df.columns.isin(same_col)][nmt_2022_df.dtypes[~nmt_2022_df.columns.isin(same_col)] == np.object]\n",
        "\n",
        "display(md('The same features for **EIT** and **NMT**\\n+ '+'\\n+ '.join(same_col)))\n",
        "display(md('Categorical **EIT** \\n+ '+'\\n+ '.join(cat_zno)))\n",
        "display(md('Categorical **NMT** \\n+ '+'\\n+ '.join(cat_nmt)))"
      ]
    },
    {
      "cell_type": "code",
      "execution_count": null,
      "id": "58572896",
      "metadata": {
        "colab": {
          "base_uri": "https://localhost:8080/",
          "height": 1000
        },
        "id": "58572896",
        "outputId": "8cbec69f-ad24-4968-954b-6adbbee3d7d1"
      },
      "outputs": [
        {
          "output_type": "display_data",
          "data": {
            "text/plain": [
              "<IPython.core.display.Markdown object>"
            ],
            "text/markdown": "\n+ SexTypeName"
          },
          "metadata": {}
        },
        {
          "output_type": "display_data",
          "data": {
            "text/plain": [
              "чоловіча    196250\n",
              "жіноча      193073\n",
              "Name: SexTypeName, dtype: int64"
            ]
          },
          "metadata": {}
        },
        {
          "output_type": "display_data",
          "data": {
            "text/plain": [
              "жіноча      122311\n",
              "чоловіча    111793\n",
              "Name: SexTypeName, dtype: int64"
            ]
          },
          "metadata": {}
        },
        {
          "output_type": "display_data",
          "data": {
            "text/plain": [
              "<IPython.core.display.Markdown object>"
            ],
            "text/markdown": "\n+ RegTypeName"
          },
          "metadata": {}
        },
        {
          "output_type": "display_data",
          "data": {
            "text/plain": [
              "Випускник загальноосвітнього навчального закладу 2021 року                                               219640\n",
              "Студент закладу вищої освіти                                                                              69684\n",
              "Випускник минулих років                                                                                   51009\n",
              "Учень (слухач) закладу професійної (професійно-технічної) освіти                                          48954\n",
              "Випускник, який здобуде в 2021 році повну загальну середню освіту в навчальному закладі іншої держави        36\n",
              "Name: RegTypeName, dtype: int64"
            ]
          },
          "metadata": {}
        },
        {
          "output_type": "display_data",
          "data": {
            "text/plain": [
              "Випускник закладу загальної середньої освіти 2022 року                                             166252\n",
              "Випускник минулих років                                                                             36129\n",
              "Студент закладу вищої/фахової передвищої освіти                                                     24793\n",
              "Учень (слухач) закладу професійної (професійно-технічної) освіти                                     6815\n",
              "Випускник, який здобуде в 2022 році повну загальну середню освіту в закордонному закладі освіти        89\n",
              "Установа виконання покарань                                                                            26\n",
              "Name: RegTypeName, dtype: int64"
            ]
          },
          "metadata": {}
        },
        {
          "output_type": "display_data",
          "data": {
            "text/plain": [
              "<IPython.core.display.Markdown object>"
            ],
            "text/markdown": "\n+ TerTypeName"
          },
          "metadata": {}
        },
        {
          "output_type": "display_data",
          "data": {
            "text/plain": [
              "місто                   284190\n",
              "селище, село             73618\n",
              "селище міського типу     31515\n",
              "Name: TerTypeName, dtype: int64"
            ]
          },
          "metadata": {}
        },
        {
          "output_type": "display_data",
          "data": {
            "text/plain": [
              "місто                   170823\n",
              "селище, село             44514\n",
              "селище міського типу     18767\n",
              "Name: TerTypeName, dtype: int64"
            ]
          },
          "metadata": {}
        },
        {
          "output_type": "display_data",
          "data": {
            "text/plain": [
              "<IPython.core.display.Markdown object>"
            ],
            "text/markdown": "\n+ EOTypeName"
          },
          "metadata": {}
        },
        {
          "output_type": "display_data",
          "data": {
            "text/plain": [
              "середня загальноосвітня школа                       117763\n",
              "заклад професійної (професійно-технічної) освіти     48714\n",
              "заклад фахової передвищої освіти                     46341\n",
              "ліцей                                                38406\n",
              "навчально-виховний комплекс                          25736\n",
              "заклад вищої освіти                                  23046\n",
              "спеціалізована школа                                 17328\n",
              "гімназія                                             16661\n",
              "навчально-виховне об'єднання                          2018\n",
              "колегіум/колеж                                         878\n",
              "загальноосвітня санаторна школа                        368\n",
              "вечірня (змінна) школа                                 269\n",
              "спеціальна загальноосвітня школа                       199\n",
              "навчально-реабілітаційний центр                         14\n",
              "Name: EOTypeName, dtype: int64"
            ]
          },
          "metadata": {}
        },
        {
          "output_type": "display_data",
          "data": {
            "text/plain": [
              "середня загальноосвітня школа                                  70237\n",
              "ліцей                                                          53003\n",
              "заклад фахової передвищої освіти                               19502\n",
              "навчально-виховний комплекс                                    13683\n",
              "спеціалізована школа                                           13422\n",
              "гімназія                                                       12001\n",
              "заклад професійної (професійно-технічної) освіти                6462\n",
              "заклад вищої освіти                                             4190\n",
              "навчально-виховне об'єднання                                    1386\n",
              "колегіум/колеж                                                   655\n",
              "ліцей із посиленою військово-фізичною підготовкою                489\n",
              "науковий ліцей                                                   408\n",
              "спортивний ліцей                                                 308\n",
              "загальноосвітня санаторна школа                                  272\n",
              "військовий (військово-морський, військово-спортивний) ліцей      107\n",
              "вечірня (змінна) школа                                            89\n",
              "мистецький ліцей                                                  79\n",
              "спеціальна загальноосвітня школа                                  78\n",
              "Пенітенціарна установа                                            26\n",
              "спеціальна школа                                                  21\n",
              "навчально-реабілітаційний центр                                    8\n",
              "професійний коледж (коледж) спортивного профілю                    6\n",
              "Name: EOTypeName, dtype: int64"
            ]
          },
          "metadata": {}
        }
      ],
      "source": [
        "for col in same_col:\n",
        "    if 'TypeName' in col:\n",
        "        display(md('\\n+ '+col))\n",
        "        display(zno_2021_df[col].value_counts())\n",
        "        display(nmt_2022_df[col].value_counts())        "
      ]
    },
    {
      "cell_type": "code",
      "execution_count": null,
      "id": "49788bc0",
      "metadata": {
        "id": "49788bc0"
      },
      "outputs": [],
      "source": [
        "nmt_subj = ['Block'+str(i) for i in range(1,4)]\n",
        "zno_subj = ['UML', 'Ukr', 'Hist', 'MathSt', 'Math', 'Phys', 'Chem', 'Bio', 'Geo', 'Eng', 'Fra', 'Deu', 'Spa']\n",
        "nmt_subj_col = list(filter(lambda x: len(re.findall('|'.join(nmt_subj),x))>0, nmt_2022_df.columns[~nmt_2022_df.columns.isin(same_col)]))\n",
        "zno_subj_col = list(filter(lambda x: len(re.findall('|'.join(zno_subj),x))>0, zno_2021_df.columns[~zno_2021_df.columns.isin(same_col)]))\n",
        "\n",
        "nmt_subj_features = list(set([re.sub('|'.join(nmt_subj), '', col) for col in nmt_subj_col]))\n",
        "zno_subj_features = list(set([re.sub('|'.join(zno_subj), '', col) for col in zno_subj_col]))"
      ]
    },
    {
      "cell_type": "code",
      "execution_count": null,
      "id": "2b3616b4",
      "metadata": {
        "colab": {
          "base_uri": "https://localhost:8080/",
          "height": 359
        },
        "id": "2b3616b4",
        "outputId": "3669bb49-f51a-4cde-8353-8d2caaeb76f2"
      },
      "outputs": [
        {
          "output_type": "display_data",
          "data": {
            "text/plain": [
              "<IPython.core.display.Markdown object>"
            ],
            "text/markdown": "Subjects features **EIT** \n+ DpaLevel\n+ PTRegName\n+ Lang\n+ DPALevel\n+ Ball100\n+ PTTerName\n+ SubTest\n+ AdaptScale\n+ Ball12\n+ Test\n+ PTAreaName\n+ Ball\n+ TestStatus\n+ PTName"
          },
          "metadata": {}
        },
        {
          "output_type": "display_data",
          "data": {
            "text/plain": [
              "<IPython.core.display.Markdown object>"
            ],
            "text/markdown": "Subjects features **NMT** \n+ Ball100\n+ Ball"
          },
          "metadata": {}
        }
      ],
      "source": [
        "display(md('Subjects features **EIT** \\n+ '+'\\n+ '.join(zno_subj_features)))\n",
        "display(md('Subjects features **NMT** \\n+ '+'\\n+ '.join(nmt_subj_features[1:])))"
      ]
    },
    {
      "cell_type": "code",
      "execution_count": null,
      "id": "1d7816ab",
      "metadata": {
        "colab": {
          "base_uri": "https://localhost:8080/",
          "height": 1000
        },
        "id": "1d7816ab",
        "outputId": "11057f71-79e4-41b5-e9ed-e357b0aad0d6"
      },
      "outputs": [
        {
          "output_type": "display_data",
          "data": {
            "text/plain": [
              "<IPython.core.display.Markdown object>"
            ],
            "text/markdown": "\n+ DpaLevel"
          },
          "metadata": {}
        },
        {
          "output_type": "display_data",
          "data": {
            "text/plain": [
              "стандарт(академічний)    229986\n",
              "профільний                30314\n",
              "Name: MathDpaLevel, dtype: int64"
            ]
          },
          "metadata": {}
        },
        {
          "output_type": "display_data",
          "data": {
            "text/plain": [
              "<IPython.core.display.Markdown object>"
            ],
            "text/markdown": "\n+ PTRegName"
          },
          "metadata": {}
        },
        {
          "output_type": "display_data",
          "data": {
            "text/plain": [
              "м.Київ                       27505\n",
              "Дніпропетровська область     24866\n",
              "Львівська область            20669\n",
              "Одеська область              19185\n",
              "Харківська область           18327\n",
              "Запорізька область           12927\n",
              "Донецька область             12639\n",
              "Вінницька область            12537\n",
              "Київська область             12481\n",
              "Івано-Франківська область    10840\n",
              "Рівненська область           10266\n",
              "Житомирська область          10108\n",
              "Полтавська область            9578\n",
              "Хмельницька область           9382\n",
              "Волинська область             9214\n",
              "Закарпатська область          8501\n",
              "Тернопільська область         8493\n",
              "Черкаська область             7867\n",
              "Миколаївська область          7725\n",
              "Сумська область               7482\n",
              "Херсонська область            7300\n",
              "Чернігівська область          7102\n",
              "Чернівецька область           6186\n",
              "Кіровоградська область        5996\n",
              "Луганська область             4613\n",
              "Name: MathPTRegName, dtype: int64"
            ]
          },
          "metadata": {}
        },
        {
          "output_type": "display_data",
          "data": {
            "text/plain": [
              "<IPython.core.display.Markdown object>"
            ],
            "text/markdown": "\n+ Lang"
          },
          "metadata": {}
        },
        {
          "output_type": "display_data",
          "data": {
            "text/plain": [
              "українська    291789\n",
              "Name: MathLang, dtype: int64"
            ]
          },
          "metadata": {}
        },
        {
          "output_type": "display_data",
          "data": {
            "text/plain": [
              "<IPython.core.display.Markdown object>"
            ],
            "text/markdown": "\n+ Ball100"
          },
          "metadata": {}
        },
        {
          "output_type": "display_data",
          "data": {
            "text/plain": [
              "count    244202.000000\n",
              "mean         95.058869\n",
              "std          67.542058\n",
              "min           0.000000\n",
              "25%           0.000000\n",
              "50%         116.000000\n",
              "75%         147.000000\n",
              "max         200.000000\n",
              "Name: MathBall100, dtype: float64"
            ]
          },
          "metadata": {}
        },
        {
          "output_type": "display_data",
          "data": {
            "text/plain": [
              "<IPython.core.display.Markdown object>"
            ],
            "text/markdown": "\n+ PTTerName"
          },
          "metadata": {}
        },
        {
          "output_type": "display_data",
          "data": {
            "text/plain": [
              "Шевченківський район міста    12595\n",
              "Київський район міста          6315\n",
              "Дніпровський район міста       6215\n",
              "м.Вінниця                      6150\n",
              "Деснянський район міста        5078\n",
              "                              ...  \n",
              "м.Корюківка                     155\n",
              "м.Ржищів                        151\n",
              "м.Ланівці                       142\n",
              "с.Горбова                        93\n",
              "м.Вижниця                        83\n",
              "Name: MathPTTerName, Length: 344, dtype: int64"
            ]
          },
          "metadata": {}
        },
        {
          "output_type": "display_data",
          "data": {
            "text/plain": [
              "<IPython.core.display.Markdown object>"
            ],
            "text/markdown": "\n+ Ball12"
          },
          "metadata": {}
        },
        {
          "output_type": "display_data",
          "data": {
            "text/plain": [
              "count    220216.000000\n",
              "mean          5.319554\n",
              "std           2.736655\n",
              "min           1.000000\n",
              "25%           3.000000\n",
              "50%           5.000000\n",
              "75%           7.000000\n",
              "max          12.000000\n",
              "Name: MathBall12, dtype: float64"
            ]
          },
          "metadata": {}
        },
        {
          "output_type": "display_data",
          "data": {
            "text/plain": [
              "<IPython.core.display.Markdown object>"
            ],
            "text/markdown": "\n+ Test"
          },
          "metadata": {}
        },
        {
          "output_type": "display_data",
          "data": {
            "text/plain": [
              "Математика    291789\n",
              "Name: MathTest, dtype: int64"
            ]
          },
          "metadata": {}
        },
        {
          "output_type": "display_data",
          "data": {
            "text/plain": [
              "<IPython.core.display.Markdown object>"
            ],
            "text/markdown": "\n+ PTAreaName"
          },
          "metadata": {}
        },
        {
          "output_type": "display_data",
          "data": {
            "text/plain": [
              "м.Вінниця                            6150\n",
              "м.Рівне                              4080\n",
              "м.Київ. Святошинський район міста    4027\n",
              "м.Хмельницький                       4017\n",
              "м.Київ. Солом'янський район міста    3771\n",
              "                                     ... \n",
              "Шумський район                        155\n",
              "Корюківський район                    155\n",
              "м.Ржищів                              151\n",
              "Лановецький район                     142\n",
              "Герцаївський район                     93\n",
              "Name: MathPTAreaName, Length: 351, dtype: int64"
            ]
          },
          "metadata": {}
        },
        {
          "output_type": "display_data",
          "data": {
            "text/plain": [
              "<IPython.core.display.Markdown object>"
            ],
            "text/markdown": "\n+ Ball"
          },
          "metadata": {}
        },
        {
          "output_type": "display_data",
          "data": {
            "text/plain": [
              "count    244202.000000\n",
              "mean         19.605118\n",
              "std          14.488172\n",
              "min           0.000000\n",
              "25%           8.000000\n",
              "50%          14.000000\n",
              "75%          28.000000\n",
              "max          67.000000\n",
              "Name: MathBall, dtype: float64"
            ]
          },
          "metadata": {}
        },
        {
          "output_type": "display_data",
          "data": {
            "text/plain": [
              "<IPython.core.display.Markdown object>"
            ],
            "text/markdown": "\n+ TestStatus"
          },
          "metadata": {}
        },
        {
          "output_type": "display_data",
          "data": {
            "text/plain": [
              "Зараховано           168369\n",
              "Не подолав поріг      75833\n",
              "Не з’явився           47247\n",
              "Анульовано              208\n",
              "Не обрано 100-200       132\n",
              "Name: MathTestStatus, dtype: int64"
            ]
          },
          "metadata": {}
        },
        {
          "output_type": "display_data",
          "data": {
            "text/plain": [
              "<IPython.core.display.Markdown object>"
            ],
            "text/markdown": "\n+ PTName"
          },
          "metadata": {}
        },
        {
          "output_type": "display_data",
          "data": {
            "text/plain": [
              "Загальноосвітня школа І-ІІІ ступенів смт. Гусятин Гусятинський район Тернопільська область                                                                                             376\n",
              "Городоцький ліцей №4 Городоцької міської ради Хмельницької області                                                                                                                     374\n",
              "Комунальний заклад загальної середньої освіти І-ІІІ ступенів №3 Березівської міської ради Одеської області                                                                             373\n",
              "Бучацький ліцей                                                                                                                                                                        365\n",
              "Первомайська загальноосвітня школа I-III ступенів №16 ім. Героя Радянського Cоюзу Я. М. Лобова Первомайської міської ради Миколаївської області                                        364\n",
              "                                                                                                                                                                                      ... \n",
              "Вижницький заклад загальної середньої освіти І-ІІІ ступенів ім. Юрія Федьковича Вижницької міської ради Вижницького району Чернівецької області (ПТ №1)                                 83\n",
              "Богуславське навчально-виховне об'єднання \"Ліцей №3 - Мала академія наук\" Богуславської міської ради Київської області (ПТ №1)                                                          75\n",
              "Гадяцька спеціалізована школа І-ІІІ ступенів №3 імені Івана Виговського Гадяцької міської ради Полтавської області (ПТ1)                                                                75\n",
              "Опорний заклад освіти \"Яготинський навчально-виховний комплекс \"Спеціалізована школа - загальноосвітня школа І-ІІІ ступенів №2\" Яготинської районної ради Київської області (ПТ №1)     60\n",
              "Миргородська гімназія імені Т.Г.Шевченка Миргородської міської ради Полтавської області (ПТ1)                                                                                           60\n",
              "Name: MathPTName, Length: 1231, dtype: int64"
            ]
          },
          "metadata": {}
        }
      ],
      "source": [
        "for feature in zno_subj_features:\n",
        "    try:\n",
        "        if zno_2021_df.dtypes['Math'+feature]!=np.float64:\n",
        "            display(md('\\n+ '+feature))\n",
        "            display(zno_2021_df['Math'+feature].value_counts())\n",
        "        else:\n",
        "            display(md('\\n+ '+feature))\n",
        "            display(zno_2021_df['Math'+feature].describe())\n",
        "    except KeyError:\n",
        "        pass"
      ]
    },
    {
      "cell_type": "code",
      "execution_count": null,
      "id": "c38259be",
      "metadata": {
        "colab": {
          "base_uri": "https://localhost:8080/",
          "height": 1000
        },
        "id": "c38259be",
        "outputId": "e0943302-dac1-44fe-d853-9ef6e11b0060"
      },
      "outputs": [
        {
          "output_type": "display_data",
          "data": {
            "text/plain": [
              "<IPython.core.display.Markdown object>"
            ],
            "text/markdown": "\n+ PTRegName"
          },
          "metadata": {}
        },
        {
          "output_type": "display_data",
          "data": {
            "text/plain": [
              "м.Київ                       103\n",
              "Львівська область             29\n",
              "Харківська область            12\n",
              "Дніпропетровська область      10\n",
              "Одеська область               10\n",
              "Херсонська область            10\n",
              "Запорізька область             7\n",
              "Полтавська область             6\n",
              "Чернівецька область            5\n",
              "Івано-Франківська область      5\n",
              "Тернопільська область          4\n",
              "Закарпатська область           3\n",
              "Сумська область                3\n",
              "Кіровоградська область         3\n",
              "Миколаївська область           2\n",
              "Вінницька область              2\n",
              "Рівненська область             2\n",
              "Житомирська область            2\n",
              "Донецька область               2\n",
              "Хмельницька область            2\n",
              "Волинська область              1\n",
              "Луганська область              1\n",
              "Name: SpaPTRegName, dtype: int64"
            ]
          },
          "metadata": {}
        },
        {
          "output_type": "display_data",
          "data": {
            "text/plain": [
              "<IPython.core.display.Markdown object>"
            ],
            "text/markdown": "\n+ DPALevel"
          },
          "metadata": {}
        },
        {
          "output_type": "display_data",
          "data": {
            "text/plain": [
              "профільний               27\n",
              "стандарт(академічний)    22\n",
              "Name: SpaDPALevel, dtype: int64"
            ]
          },
          "metadata": {}
        },
        {
          "output_type": "display_data",
          "data": {
            "text/plain": [
              "<IPython.core.display.Markdown object>"
            ],
            "text/markdown": "\n+ Ball100"
          },
          "metadata": {}
        },
        {
          "output_type": "display_data",
          "data": {
            "text/plain": [
              "count    150.000000\n",
              "mean     135.953333\n",
              "std       64.475825\n",
              "min        0.000000\n",
              "25%      112.500000\n",
              "50%      163.000000\n",
              "75%      182.000000\n",
              "max      200.000000\n",
              "Name: SpaBall100, dtype: float64"
            ]
          },
          "metadata": {}
        },
        {
          "output_type": "display_data",
          "data": {
            "text/plain": [
              "<IPython.core.display.Markdown object>"
            ],
            "text/markdown": "\n+ PTTerName"
          },
          "metadata": {}
        },
        {
          "output_type": "display_data",
          "data": {
            "text/plain": [
              "Печерський район міста                 103\n",
              "Галицький район міста                   29\n",
              "Київський район міста                   12\n",
              "Приморський район міста                 10\n",
              "Суворовський район міста                10\n",
              "Амур-Нижньодніпровський район міста      9\n",
              "Вознесенівський район міста              7\n",
              "Подільський район міста                  6\n",
              "м.Івано-Франківськ                       5\n",
              "м.Чернівці                               5\n",
              "м.Тернопіль                              4\n",
              "Фортечний район міста                    3\n",
              "Ковпаківський район міста                3\n",
              "м.Ужгород                                3\n",
              "Заводський район міста                   2\n",
              "м.Рівне                                  2\n",
              "м.Вінниця                                2\n",
              "Центральний район міста                  2\n",
              "Богунський район міста                   2\n",
              "м.Хмельницький                           2\n",
              "м.Сєвєродонецьк                          1\n",
              "м.Луцьк                                  1\n",
              "Центрально-Міський район міста           1\n",
              "Name: SpaPTTerName, dtype: int64"
            ]
          },
          "metadata": {}
        },
        {
          "output_type": "display_data",
          "data": {
            "text/plain": [
              "<IPython.core.display.Markdown object>"
            ],
            "text/markdown": "\n+ Ball12"
          },
          "metadata": {}
        },
        {
          "output_type": "display_data",
          "data": {
            "text/plain": [
              "count    39.000000\n",
              "mean      8.333333\n",
              "std       2.688507\n",
              "min       3.000000\n",
              "25%       6.000000\n",
              "50%       8.000000\n",
              "75%      10.000000\n",
              "max      12.000000\n",
              "Name: SpaBall12, dtype: float64"
            ]
          },
          "metadata": {}
        },
        {
          "output_type": "display_data",
          "data": {
            "text/plain": [
              "<IPython.core.display.Markdown object>"
            ],
            "text/markdown": "\n+ Test"
          },
          "metadata": {}
        },
        {
          "output_type": "display_data",
          "data": {
            "text/plain": [
              "Іспанська мова    224\n",
              "Name: SpaTest, dtype: int64"
            ]
          },
          "metadata": {}
        },
        {
          "output_type": "display_data",
          "data": {
            "text/plain": [
              "<IPython.core.display.Markdown object>"
            ],
            "text/markdown": "\n+ PTAreaName"
          },
          "metadata": {}
        },
        {
          "output_type": "display_data",
          "data": {
            "text/plain": [
              "м.Київ. Печерський район міста                   103\n",
              "м.Львів. Галицький район міста                    29\n",
              "м.Харків. Київський район міста                   12\n",
              "м.Одеса. Приморський район міста                  10\n",
              "м.Херсон. Суворовський район міста                10\n",
              "м.Дніпро. Амур-Нижньодніпровський район міста      9\n",
              "м.Запоріжжя. Вознесенівський район міста           7\n",
              "м.Полтава. Подільський район міста                 6\n",
              "м.Івано-Франківськ                                 5\n",
              "м.Чернівці                                         5\n",
              "м.Тернопіль                                        4\n",
              "м.Кропивницький. Фортечний район міста             3\n",
              "м.Суми. Ковпаківський район міста                  3\n",
              "м.Ужгород                                          3\n",
              "м.Миколаїв. Заводський район міста                 2\n",
              "м.Рівне                                            2\n",
              "м.Вінниця                                          2\n",
              "м.Маріуполь. Центральний район міста               2\n",
              "м.Житомир. Богунський район міста                  2\n",
              "м.Хмельницький                                     2\n",
              "м.Сєвєродонецьк                                    1\n",
              "м.Луцьк                                            1\n",
              "м.Кривий Ріг. Центрально-Міський район міста       1\n",
              "Name: SpaPTAreaName, dtype: int64"
            ]
          },
          "metadata": {}
        },
        {
          "output_type": "display_data",
          "data": {
            "text/plain": [
              "<IPython.core.display.Markdown object>"
            ],
            "text/markdown": "\n+ Ball"
          },
          "metadata": {}
        },
        {
          "output_type": "display_data",
          "data": {
            "text/plain": [
              "count    150.000000\n",
              "mean      44.206667\n",
              "std       19.995065\n",
              "min        9.000000\n",
              "25%       24.250000\n",
              "50%       51.000000\n",
              "75%       61.000000\n",
              "max       72.000000\n",
              "Name: SpaBall, dtype: float64"
            ]
          },
          "metadata": {}
        },
        {
          "output_type": "display_data",
          "data": {
            "text/plain": [
              "<IPython.core.display.Markdown object>"
            ],
            "text/markdown": "\n+ TestStatus"
          },
          "metadata": {}
        },
        {
          "output_type": "display_data",
          "data": {
            "text/plain": [
              "Зараховано           127\n",
              "Не з’явився           71\n",
              "Не подолав поріг      23\n",
              "Анульовано             2\n",
              "Не обрано 100-200      1\n",
              "Name: SpaTestStatus, dtype: int64"
            ]
          },
          "metadata": {}
        },
        {
          "output_type": "display_data",
          "data": {
            "text/plain": [
              "<IPython.core.display.Markdown object>"
            ],
            "text/markdown": "\n+ PTName"
          },
          "metadata": {}
        },
        {
          "output_type": "display_data",
          "data": {
            "text/plain": [
              "Школа І-ІІІ ступенів №90 Печерського району міста Києва                                                                                                     103\n",
              "Львівська лінгвістична гімназія Львівської міської ради Львівської області                                                                                   29\n",
              "ХАРКІВСЬКА ЗАГАЛЬНООСВІТНЯ ШКОЛА I-III СТУПЕНІВ № 5 ХАРКІВСЬКОЇ МІСЬКОЇ РАДИ ХАРКІВСЬКОЇ ОБЛАСТІ                                                             12\n",
              "Одеська спеціалізована школа № 35 I-III ступенів з поглибленим вивченням англійської мови Одеської міської ради Одеської області                             10\n",
              "Херсонська загальноосвітня школа I-III ступенів №4 Херсонської міської ради                                                                                  10\n",
              "Комунальний заклад освіти \"Спеціалізована школа № 134 гуманістичного навчання та виховання\" Дніпровської міської ради                                         9\n",
              "Запорізька гімназія № 25 гуманітарного профілю Запорізької міської ради Запорізької області                                                                   7\n",
              "Полтавська гімназія № 17 Полтавської міської ради Полтавської області                                                                                         6\n",
              "Ліцей №25 Івано-Франківської міської ради                                                                                                                     5\n",
              "Чернівецький багатопрофільний ліцей №4 Чернівецької міської ради                                                                                              5\n",
              "Тернопільський ліцей № 21- спеціалізована мистецька школа імені Ігоря Герети Тернопільської міської ради Тернопільської області                               4\n",
              "Гімназія № 9 Кіровоградської міської ради Кіровоградської області                                                                                             3\n",
              "Сумський державний педагогічний університет імені А.С.Макаренка (Корпус А)                                                                                    3\n",
              "Лінгвістична гімназія ім. Т. Г. Шевченка Ужгородської міської ради Закарпатської області                                                                      3\n",
              "Миколаївська спеціалізована І-ІІІ ступенів школа №22 з поглибленим вивченням англійської мови з 1 класу Миколаївської міської ради Миколаївської області      2\n",
              "Рівненська загальноосвітня школа І-ІІІ ступенів №11 Рівненської міської ради                                                                                  2\n",
              "Комунальний заклад \"Навчально-виховний комплекс: загальноосвітня школа I-III ступенів - гімназія №2 Вінницької міської ради\"                                  2\n",
              "Комунальний заклад \"Маріупольська спеціалізована школа І-ІІІ ступенів №66 Маріупольської міської ради Донецької області\"                                      2\n",
              "Загальноосвітня школа І-ІІІ ступенів № 7 імені В.В. Бражевського                                                                                              2\n",
              "Хмельницький ліцей №17                                                                                                                                        2\n",
              "Сєвєродонецька загальноосвітня школа І-ІІІ ступенів № 14 Сєвєродонецької міської ради Луганської області                                                      1\n",
              "Комунальний заклад \"Луцький навчально-виховний комплекс №26 Луцької міської ради Волинської області\"                                                          1\n",
              "Криворізька Центрально-Міська гімназія Криворізької міської ради Дніпропетровської області                                                                    1\n",
              "Name: SpaPTName, dtype: int64"
            ]
          },
          "metadata": {}
        }
      ],
      "source": [
        "for feature in zno_subj_features:\n",
        "    try:\n",
        "        if zno_2021_df.dtypes['Spa'+feature]!=np.float64:\n",
        "            display(md('\\n+ '+feature))\n",
        "            display(zno_2021_df['Spa'+feature].value_counts().T)\n",
        "        else:\n",
        "            display(md('\\n+ '+feature))\n",
        "            display(zno_2021_df['Spa'+feature].describe())\n",
        "    except KeyError:\n",
        "        pass"
      ]
    },
    {
      "cell_type": "code",
      "execution_count": null,
      "id": "676f4540",
      "metadata": {
        "colab": {
          "base_uri": "https://localhost:8080/",
          "height": 388
        },
        "id": "676f4540",
        "outputId": "9c669bcd-e6d7-43fc-d2c0-958c75666476"
      },
      "outputs": [
        {
          "output_type": "display_data",
          "data": {
            "text/plain": [
              "<IPython.core.display.Markdown object>"
            ],
            "text/markdown": "\n+ Ball100"
          },
          "metadata": {}
        },
        {
          "output_type": "display_data",
          "data": {
            "text/plain": [
              "count    214074.000000\n",
              "mean        154.485645\n",
              "std          18.912813\n",
              "min           0.000000\n",
              "25%         140.000000\n",
              "50%         149.000000\n",
              "75%         169.000000\n",
              "max         200.000000\n",
              "Name: Block1Ball100, dtype: float64"
            ]
          },
          "metadata": {}
        },
        {
          "output_type": "display_data",
          "data": {
            "text/plain": [
              "<IPython.core.display.Markdown object>"
            ],
            "text/markdown": "\n+ Ball"
          },
          "metadata": {}
        },
        {
          "output_type": "display_data",
          "data": {
            "text/plain": [
              "count    214074.000000\n",
              "mean         19.076604\n",
              "std           7.616550\n",
              "min           0.000000\n",
              "25%          13.000000\n",
              "50%          18.000000\n",
              "75%          25.000000\n",
              "max          35.000000\n",
              "Name: Block1Ball, dtype: float64"
            ]
          },
          "metadata": {}
        }
      ],
      "source": [
        "for feature in nmt_subj_features[1:]:\n",
        "    try:\n",
        "        if nmt_2022_df.dtypes['Block1'+feature]!=np.float64:\n",
        "            display(md('\\n+ '+feature))\n",
        "            display(nmt_2022_df['Block1'+feature].value_counts())\n",
        "        else:\n",
        "            display(md('\\n+ '+feature))\n",
        "            display(nmt_2022_df['Block1'+feature].describe())\n",
        "    except KeyError:\n",
        "        pass"
      ]
    },
    {
      "cell_type": "markdown",
      "id": "66be771b",
      "metadata": {
        "id": "66be771b"
      },
      "source": [
        "Subjects features:\n",
        "+ Ball12 - 12-point score, failed is NaN\n",
        "+ Ball100 - 12-point score, failed is NaN/0 (depence of status)\n",
        "+ TestStatus"
      ]
    },
    {
      "cell_type": "markdown",
      "id": "32a589ba",
      "metadata": {
        "id": "32a589ba"
      },
      "source": [
        "# Functions"
      ]
    },
    {
      "cell_type": "code",
      "execution_count": null,
      "id": "880bedfc",
      "metadata": {
        "id": "880bedfc"
      },
      "outputs": [],
      "source": [
        "#Some helper functions used for visualization and tests\n",
        "\n",
        "def plot_pmf(features, df, cols=3, suptitle='Distributions', group_by = None):\n",
        "    rows = len(features)//cols+len(features)%cols\n",
        "    fig, ax = plt.subplots(nrows=rows, ncols=cols, figsize=(20, 6))\n",
        "    ax = ax.flatten()\n",
        "    if group_by != None:\n",
        "        features = zip(features, group_by)\n",
        "    \n",
        "    for i, subj in enumerate(features):\n",
        "        if group_by != None:\n",
        "            subj, subj_name = subj\n",
        "            mask = df[subj].notnull() & df[subj]>0 \n",
        "            df.hist(column=subj, by=subj_name, bins=12, ax=ax[i])\n",
        "        else:\n",
        "            mask = df[subj].notnull() & df[subj]>0 \n",
        "            df[subj][mask].hist(bins=12, ax=ax[i])\n",
        "            ax[i].set_title(subj)\n",
        "        ax[i].axvline(x=df[subj].mean(), c='r')\n",
        "        \n",
        "    fig.suptitle(suptitle)\n",
        "    \n",
        "def plot_pie(features, df, cols=1, suptitle='Counts'):\n",
        "    rows = len(features)//cols+len(features)%cols\n",
        "    fig, ax = plt.subplots(nrows=rows, ncols=cols, figsize=(20, 8))\n",
        "    ax = ax.flatten()\n",
        "    \n",
        "    for i, subj in enumerate(features):\n",
        "        counts = (df[df[subj].notnull()][subj]>0).value_counts()\n",
        "        print(counts.head())\n",
        "        counts.plot.pie(ax=ax[i])\n",
        "        ax[i].set_xticks([])\n",
        "        ax[i].set_yticks([])\n",
        "        ax[i].set_title(subj)\n",
        "    fig.suptitle(suptitle)\n",
        "    \n",
        "def u_test(features, df, p=0.95):\n",
        "    print('Subject\\t Is H_0 rejected\\t p-value')\n",
        "    for subj in features:\n",
        "        mask = df[subj].notnull() & df[subj]>0 \n",
        "        data = df[mask][subj].to_numpy()\n",
        "        distrib = sts.norm.rvs(size=len(data), loc=data.mean(), scale=np.sqrt(data.std())).astype(int)\n",
        "        v, p_res = sts.mannwhitneyu(data, distrib, use_continuity=False)\n",
        "        print(subj+'\\t',p_res<(1-p),  \"\\t{0:.0f}%\".format((p_res)*100))\n",
        "        \n",
        "def t_test(series1, series2, name=''):\n",
        "    mask = series1.notnull() & series1>0 - 100\n",
        "    data = series1[mask].to_numpy()\n",
        "    mask = series2.notnull() & series2>0 - 100\n",
        "    distrib = series2[mask].to_numpy()\n",
        "    v, p_res = sts.ttest_ind(data, distrib, alternative='less')\n",
        "    print(f'{name} t-test\\t', v,'\\t', p_res)"
      ]
    },
    {
      "cell_type": "markdown",
      "id": "6b6bcf51",
      "metadata": {
        "id": "6b6bcf51"
      },
      "source": [
        "## The best school based on the dataset(s)\n",
        "\n",
        "The best school according to the results of the External Independent Testing (EIT) and the National Multitest (NMT) is the one with the best grades in all subjects. \n",
        "\n",
        "We assume that grades are normally distributed. Thus, we obtain two hypotheses, which are further tested by the Mann-Whitney U test\n",
        "\n",
        "$H_0$: $P(V_{subj}) \\not= {N}(\\mu_{subj},\\sigma_{subj})$\n",
        "\n",
        "$H_1$: $P(V_{subj}) \\sim {N}(\\mu_{subj},\\sigma_{subj})$\n",
        "\n",
        "If the first hypothesis is true, then the generalized grade for each subject is expressed as \n",
        "\n",
        "$v_{subj} \\sim \\mu_{subj} \\pm \\sigma_{subj}$\n",
        "\n",
        "where\n",
        "\n",
        "+ $\\mu_{subj}$ is mean\n",
        "+ $\\sigma_{subj}$ is variance of estimation\n",
        "\n",
        "Then, according to the Central Limit Theorem, we have that the sum of the scores of each subject also follows a normal distribution:\n",
        "\n",
        "> $S_{n}=\\sum \\limits _{i=1}^{n}X_{i}$\n",
        "\n",
        "> ${\\frac  {S_{n}-\\mu n}{\\sigma {\\sqrt  n}}}\\to N(0,1)$\n",
        "\n",
        "Than the best school can be estimated by\n",
        "\n",
        "$\\max(\\frac{\\sum_{subj}^{n_{subj}} \\mu_{subj}}{n_{subj}}, \\frac{n_{subj}}{\\sum_{subj}^{n_{subj}} \\sigma_{subj}})$\n",
        "\n",
        "where\n",
        "\n",
        "+ $n_{subj}$ count of choosed subjects for estimation\n",
        "\n",
        "Note: we cannot consider schools whose results are not representative. This means that schools that submitted too small a sample for evaluation (i.e., too few students) cannot participate in the competition. Under the assumption that the number of students from each school has a [Pareto distribution](https://en.wikipedia.org/wiki/Pareto_distribution), we can use the [Pareto rule of 20-80](https://en.wikipedia.org/wiki/Pareto_principle), taking the smallest proportion for evaluation. \n",
        "\n",
        "In addition, we conducted a qualitative assessment of each of the tests by the number of students who passed the minimum score threshold.\n",
        "\n",
        "All conclusions are presented at the end of the section. "
      ]
    },
    {
      "cell_type": "code",
      "execution_count": null,
      "id": "6b428b39",
      "metadata": {
        "colab": {
          "base_uri": "https://localhost:8080/",
          "height": 417
        },
        "id": "6b428b39",
        "outputId": "4a897453-f97c-46bd-98bb-1eb7736c2354"
      },
      "outputs": [
        {
          "output_type": "display_data",
          "data": {
            "text/plain": [
              "<Figure size 1440x432 with 18 Axes>"
            ],
            "image/png": "[encoded data removed]"
          },
          "metadata": {
            "needs_background": "light"
          }
        }
      ],
      "source": [
        "# Visualizing PMF for EIT\n",
        "\n",
        "features_zno = list(filter(lambda x: 'Ball12' in x, zno_2021_df.columns))\n",
        "names_zno = list(filter(lambda x: 'Test' in x.replace('TestStatus',''), zno_2021_df.columns))\n",
        "features_zno_100 = list(filter(lambda x: 'Ball100' in x, zno_2021_df.columns))\n",
        "\n",
        "plot_pmf(features_zno, zno_2021_df, cols=6, suptitle='EIT 2021')"
      ]
    },
    {
      "cell_type": "code",
      "execution_count": null,
      "id": "f5739fc9",
      "metadata": {
        "colab": {
          "base_uri": "https://localhost:8080/",
          "height": 416
        },
        "id": "f5739fc9",
        "outputId": "27957cf1-4719-4853-bbd0-b7cbefa46290"
      },
      "outputs": [
        {
          "output_type": "display_data",
          "data": {
            "text/plain": [
              "<Figure size 1440x432 with 3 Axes>"
            ],
            "image/png": "[encoded data removed]"
          },
          "metadata": {
            "needs_background": "light"
          }
        }
      ],
      "source": [
        "# Visualizing PMF for NMT\n",
        "\n",
        "features_nmt = [f'Block{i}Ball100' for i in range(1,4)]\n",
        "names_nmt = [f'Block{i}' for i in range(1,4)]\n",
        "\n",
        "plot_pmf(features_nmt, nmt_2022_df, cols=3, suptitle='NMT 2022', group_by=names_nmt)"
      ]
    },
    {
      "cell_type": "code",
      "execution_count": null,
      "id": "cc06f41f",
      "metadata": {
        "colab": {
          "base_uri": "https://localhost:8080/"
        },
        "id": "cc06f41f",
        "outputId": "1c3ad56f-541f-4a3b-f416-35b9b05e9155"
      },
      "outputs": [
        {
          "output_type": "stream",
          "name": "stdout",
          "text": [
            "Subject\t Is H_0 rejected\t p-value\n",
            "UMLBall12\t True \t0%\n",
            "UkrBall12\t True \t0%\n",
            "HistBall12\t True \t0%\n",
            "MathBall12\t True \t0%\n",
            "MathStBall12\t True \t0%\n",
            "PhysBall12\t True \t0%\n",
            "ChemBall12\t True \t0%\n",
            "BioBall12\t True \t0%\n",
            "GeoBall12\t True \t0%\n",
            "EngBall12\t True \t0%\n",
            "FraBall12\t True \t0%\n",
            "DeuBall12\t True \t0%\n",
            "SpaBall12\t False \t21%\n",
            "Subject\t Is H_0 rejected\t p-value\n",
            "Block1Ball100\t True \t0%\n",
            "Block2Ball100\t True \t0%\n",
            "Block3Ball100\t True \t0%\n"
          ]
        }
      ],
      "source": [
        "# Testing of hypotesis about normality of distributions for EIT & NMT\n",
        "\n",
        "u_test(features_zno, zno_2021_df)\n",
        "u_test(features_nmt, nmt_2022_df)"
      ]
    },
    {
      "cell_type": "code",
      "execution_count": null,
      "id": "d314d9dc",
      "metadata": {
        "colab": {
          "base_uri": "https://localhost:8080/",
          "height": 1000
        },
        "id": "d314d9dc",
        "outputId": "6c4dbb89-632f-4a75-c16b-82f67bdaa8ca"
      },
      "outputs": [
        {
          "output_type": "stream",
          "name": "stdout",
          "text": [
            "True     204768\n",
            "False     17480\n",
            "Name: UMLBall100, dtype: int64\n",
            "True     267635\n",
            "False     21202\n",
            "Name: UkrBall100, dtype: int64\n",
            "True     163532\n",
            "False     35841\n",
            "Name: HistBall100, dtype: int64\n",
            "True     168369\n",
            "False     75833\n",
            "Name: MathBall100, dtype: int64\n",
            "True     21275\n",
            "False     1927\n",
            "Name: PhysBall100, dtype: int64\n",
            "True     8760\n",
            "False    1049\n",
            "Name: ChemBall100, dtype: int64\n",
            "True     79514\n",
            "False     1898\n",
            "Name: BioBall100, dtype: int64\n",
            "True     107045\n",
            "False      6071\n",
            "Name: GeoBall100, dtype: int64\n",
            "True     114139\n",
            "False     13575\n",
            "Name: EngBall100, dtype: int64\n",
            "True     377\n",
            "False     37\n",
            "Name: FraBall100, dtype: int64\n",
            "True     1617\n",
            "False     208\n",
            "Name: DeuBall100, dtype: int64\n",
            "True     127\n",
            "False     23\n",
            "Name: SpaBall100, dtype: int64\n",
            "True     213927\n",
            "False       147\n",
            "Name: Block1Ball100, dtype: int64\n",
            "True     213738\n",
            "False       336\n",
            "Name: Block2Ball100, dtype: int64\n",
            "True     213805\n",
            "False       269\n",
            "Name: Block3Ball100, dtype: int64\n"
          ]
        },
        {
          "output_type": "display_data",
          "data": {
            "text/plain": [
              "<Figure size 1440x576 with 12 Axes>"
            ],
            "image/png": "[encoded data removed]"
          },
          "metadata": {}
        },
        {
          "output_type": "display_data",
          "data": {
            "text/plain": [
              "<Figure size 1440x576 with 3 Axes>"
            ],
            "image/png": "[encoded data removed]"
          },
          "metadata": {}
        }
      ],
      "source": [
        "# Ploting a pie with counts of students which successfully passed test and counterwise\n",
        "\n",
        "plot_pie(features_zno_100, zno_2021_df, cols=6, suptitle='ZNO 2021 successes/fails' )\n",
        "plot_pie(features_nmt, nmt_2022_df, cols=3, suptitle='ZNO 2021 successes/fails' )"
      ]
    },
    {
      "cell_type": "markdown",
      "id": "09a71ee5",
      "metadata": {
        "id": "09a71ee5"
      },
      "source": [
        "*Note:* for further analysis we used only the most excepted subjects. \n",
        "\n",
        "For EIT:\n",
        "+ UML\n",
        "+ Math\n",
        "+ Hist\n",
        "+ English\n",
        "\n",
        "so for EIT $n_{subj}=4$\n",
        "\n",
        "For NMT (all represented blocks):\n",
        "+ UML (block 1)\n",
        "+ Hist (block 2)\n",
        "+ Math (block 3)\n",
        "\n",
        "so for NMT $n_{subj}=3$"
      ]
    },
    {
      "cell_type": "code",
      "execution_count": null,
      "id": "bc142b63",
      "metadata": {
        "colab": {
          "base_uri": "https://localhost:8080/",
          "height": 316
        },
        "id": "bc142b63",
        "outputId": "05cc3998-9b6d-41eb-8745-5aac9a4548f3"
      },
      "outputs": [
        {
          "output_type": "stream",
          "name": "stdout",
          "text": [
            "\n",
            "NMT students per school 31.0 \n",
            "ZNO students per school 48.0\n",
            "\n",
            "\n",
            "2022`s schools count: 1943\n",
            "\n",
            "\n",
            "2021`s schools count: 2085\n"
          ]
        },
        {
          "output_type": "display_data",
          "data": {
            "text/plain": [
              "<Figure size 576x144 with 2 Axes>"
            ],
            "image/png": "[encoded data removed]"
          },
          "metadata": {
            "needs_background": "light"
          }
        }
      ],
      "source": [
        "# Selecting schools and counting students for each\n",
        "nmt_schools = nmt_2022_df['EONAME'].value_counts()\n",
        "zno_schools = zno_2021_df['EONAME'].value_counts()\n",
        "\n",
        "# Counts of students which was tested from each school have Pareto distribution\n",
        "# I excluding schools which proposed too small count of students\n",
        "# Used Pareto rule 80-20 \n",
        "fig, ax = plt.subplots(nrows=1, ncols=2, figsize=(8,2))\n",
        "nmt_schools.hist(bins=100, ax=ax[0])\n",
        "ax[0].set_xticks([])\n",
        "zno_schools.hist(bins=100, ax=ax[1])\n",
        "ax[1].set_xticks([])\n",
        "\n",
        "fig.suptitle('Students per school for 2022/2021')\n",
        "print('\\nNMT students per school', nmt_schools.quantile(0.8), \n",
        "     '\\nZNO students per school', zno_schools.quantile(0.8))\n",
        "nmt_schools = nmt_schools.loc[lambda count: count>nmt_schools.quantile(0.8)]\n",
        "zno_schools = zno_schools.loc[lambda count: count>zno_schools.quantile(0.8)]\n",
        "print('\\n\\n2022`s schools count:', len(nmt_schools))\n",
        "print('\\n\\n2021`s schools count:', len(zno_schools))"
      ]
    },
    {
      "cell_type": "code",
      "execution_count": null,
      "id": "82b97f7c",
      "metadata": {
        "id": "82b97f7c"
      },
      "outputs": [],
      "source": [
        "# Calculating main metrics: standart deviation as error and mean as value\n",
        "def get_metrics(schools: pd.Series, subjects: list [str], df: pd.DataFrame):\n",
        "    zero2nan = df.replace(0, np.NaN)\n",
        "    grouped = zero2nan.groupby('EONAME', dropna=True)\n",
        "    mean = (grouped[subjects].mean().sum(1)/len(subjects)).loc[schools.keys()]\n",
        "    std = (grouped[subjects].std().sum(1)/len(subjects)).loc[schools.keys()]\n",
        "    \n",
        "    return mean, std\n",
        "\n",
        "# Zip results\n",
        "def  get_rating(schools, mean, std, df) -> pd.DataFrame:\n",
        "    rating = pd.DataFrame({'school': mean.index,\n",
        "              'mean':mean.values,\n",
        "              'std': std.values})\n",
        "    rating.sort_values(by='mean', inplace = True, ascending=False)\n",
        "    return rating.reset_index(drop=True)"
      ]
    },
    {
      "cell_type": "code",
      "source": [
        "def approx_poly2(x, y):\n",
        "  x, y = x.to_numpy().copy(), y.to_numpy().copy()\n",
        "  nonnans = np.isfinite(x) & np.isfinite(y)\n",
        "  curve, res, _, _, _  = np.polyfit(x[nonnans],y[nonnans],2, full=True, rcond=1e-4)\n",
        "  print(res / (nonnans.sum() - 3))\n",
        "  func = np.poly1d(curve)\n",
        "  sorted_mean = np.sort(x[nonnans])\n",
        "  vals = func(sorted_mean)\n",
        "  return sorted_mean, vals, curve, func"
      ],
      "metadata": {
        "id": "NVHCVNm1yfkp"
      },
      "id": "NVHCVNm1yfkp",
      "execution_count": null,
      "outputs": []
    },
    {
      "cell_type": "code",
      "execution_count": null,
      "id": "eeb5ed65",
      "metadata": {
        "colab": {
          "base_uri": "https://localhost:8080/",
          "height": 347
        },
        "id": "eeb5ed65",
        "outputId": "7535b2db-1c6f-4f3f-f057-32f4f946a3f3"
      },
      "outputs": [
        {
          "output_type": "stream",
          "name": "stdout",
          "text": [
            "[0.0102357]\n",
            "151.1925174689441 Любомльський заклад загальної середньої освіти І-ІІІ ступенів №2 Любомльської міської ради    151.192517\n",
            "dtype: float64\n"
          ]
        },
        {
          "output_type": "display_data",
          "data": {
            "text/plain": [
              "<Figure size 432x288 with 1 Axes>"
            ],
            "image/png": "[encoded data removed]"
          },
          "metadata": {
            "needs_background": "light"
          }
        }
      ],
      "source": [
        "# Selecting subjects for estimation\n",
        "cat = 'Ball100'\n",
        "zno_subjects = [f'Math{cat}', f'Eng{cat}', f'UML{cat}', f'Hist{cat}']\n",
        "\n",
        "zno_grouped = zno_2021_df.groupby('EONAME', dropna=True)\n",
        "zno_mean, zno_std = get_metrics(zno_schools, zno_subjects, zno_2021_df)\n",
        "zno_x, zno_approx, _, __ = approx_poly2(zno_mean, 1/zno_std)\n",
        "\n",
        "#Ploting estimated scores for NMT\n",
        "plt.plot(zno_mean, 1/zno_std, 'x')\n",
        "plt.plot(zno_x, zno_approx)\n",
        "plt.xlabel('Mean')\n",
        "plt.ylabel('Standart Deviation^-1')\n",
        "plt.title('EIT estimations')\n",
        "zno_min = np.where(zno_mean==zno_x[zno_approx.argmin()])[0]\n",
        "print(zno_x[zno_approx.argmin()], zno_mean[zno_min])"
      ]
    },
    {
      "cell_type": "code",
      "execution_count": null,
      "id": "73521ae5",
      "metadata": {
        "colab": {
          "base_uri": "https://localhost:8080/",
          "height": 347
        },
        "id": "73521ae5",
        "outputId": "22269fc3-8082-421b-cc0e-826c668c223e"
      },
      "outputs": [
        {
          "output_type": "stream",
          "name": "stdout",
          "text": [
            "[4.9066503e-05]\n",
            "Комунальний заклад \"Опорний заклад \"Кодимський ліцей №1\" Кодимської міської ради Подільського району Одеської області    163.235294\n",
            "dtype: float64\n"
          ]
        },
        {
          "output_type": "display_data",
          "data": {
            "text/plain": [
              "<Figure size 432x288 with 1 Axes>"
            ],
            "image/png": "[encoded data removed]"
          },
          "metadata": {
            "needs_background": "light"
          }
        }
      ],
      "source": [
        "cat = 'Ball100'\n",
        "subjects_ = {f'Block1{cat}': 'UML', f'Block3{cat}': 'Math', f'Block2{cat}': 'Hist'}\n",
        "nmt_subjects = [f'Block1{cat}', f'Block3{cat}', f'Block2{cat}']\n",
        "\n",
        "nmt_mean, nmt_std = get_metrics(nmt_schools, nmt_subjects, nmt_2022_df)\n",
        "nmt_x, nmt_approx, _, __ = approx_poly2(nmt_mean, 1/nmt_std)\n",
        "\n",
        "#Ploting estimated scores for NMT\n",
        "plt.plot(nmt_mean, 1/nmt_std, 'x')\n",
        "plt.plot(nmt_x, nmt_approx)\n",
        "plt.xlabel('Mean')\n",
        "plt.ylabel('Standart Deviation ^-1')\n",
        "plt.title('NMT estimations')\n",
        "nmt_min = np.where(nmt_mean==nmt_x[nmt_approx.argmin()])[0]\n",
        "print(nmt_mean[nmt_min] )"
      ]
    },
    {
      "cell_type": "code",
      "execution_count": null,
      "id": "356f5a55",
      "metadata": {
        "colab": {
          "base_uri": "https://localhost:8080/",
          "height": 1000
        },
        "id": "356f5a55",
        "outputId": "2d54d9ee-52d3-41dc-8c96-c424474ec99f"
      },
      "outputs": [
        {
          "output_type": "stream",
          "name": "stdout",
          "text": [
            "EIT schools rating\n",
            "\n"
          ]
        },
        {
          "output_type": "display_data",
          "data": {
            "text/plain": [
              "                                               school        mean        std\n",
              "0                                    Ліцей \"Інтелект\"  187.072398   9.835964\n",
              "1   Черкаський фізико-математичний ліцей (ФІМЛІ) Ч...  184.996814  14.472525\n",
              "2   Ліцей ім. Миколи Сабата Івано-Франківської міс...  183.617546  13.691751\n",
              "3                          Львівська гімназія \"Євшан\"  180.850052  13.432505\n",
              "4   Калуський ліцей імені Дмитра Бахматюка Калуськ...  180.565549  15.430530\n",
              "5   Гімназія \"Києво - Могилянський колегіум\" ІІ-ІІ...  179.510841  16.683798\n",
              "6         Гімназія №178 Солом'янського району м.Києва  179.384908  19.120651\n",
              "7   Комунальний заклад освіти \"Українсько-Американ...  179.356733  15.813039\n",
              "8   Херсонська спеціалізована школа І-ІІІ ступенів...  179.098092  16.293133\n",
              "9                                 Ліцей №208 м. Києва  178.666266  16.442304\n",
              "10             Ліцей \"Голосіївський\" №241 міста Києва  178.552097  17.780925\n",
              "11  КОМУНАЛЬНИЙ ЗАКЛАД \"ХАРКІВСЬКИЙ ФІЗИКО-МАТЕМАТ...  177.959662  15.273465\n",
              "12                              Ліцей \"Наукова зміна\"  177.864404  16.655980\n",
              "13  Львівський фізико-математичний ліцей-інтернат ...  177.754997  15.973023\n",
              "14  Львівська академічна гімназія при Національном...  177.584163  16.090046"
            ],
            "text/html": [
              "\n",
              "  <div id=\"df-a39b092f-8078-4764-ad2e-5d2591b519ab\">\n",
              "    <div class=\"colab-df-container\">\n",
              "      <div>\n",
              "<style scoped>\n",
              "    .dataframe tbody tr th:only-of-type {\n",
              "        vertical-align: middle;\n",
              "    }\n",
              "\n",
              "    .dataframe tbody tr th {\n",
              "        vertical-align: top;\n",
              "    }\n",
              "\n",
              "    .dataframe thead th {\n",
              "        text-align: right;\n",
              "    }\n",
              "</style>\n",
              "<table border=\"1\" class=\"dataframe\">\n",
              "  <thead>\n",
              "    <tr style=\"text-align: right;\">\n",
              "      <th></th>\n",
              "      <th>school</th>\n",
              "      <th>mean</th>\n",
              "      <th>std</th>\n",
              "    </tr>\n",
              "  </thead>\n",
              "  <tbody>\n",
              "    <tr>\n",
              "      <th>0</th>\n",
              "      <td>Ліцей \"Інтелект\"</td>\n",
              "      <td>187.072398</td>\n",
              "      <td>9.835964</td>\n",
              "    </tr>\n",
              "    <tr>\n",
              "      <th>1</th>\n",
              "      <td>Черкаський фізико-математичний ліцей (ФІМЛІ) Ч...</td>\n",
              "      <td>184.996814</td>\n",
              "      <td>14.472525</td>\n",
              "    </tr>\n",
              "    <tr>\n",
              "      <th>2</th>\n",
              "      <td>Ліцей ім. Миколи Сабата Івано-Франківської міс...</td>\n",
              "      <td>183.617546</td>\n",
              "      <td>13.691751</td>\n",
              "    </tr>\n",
              "    <tr>\n",
              "      <th>3</th>\n",
              "      <td>Львівська гімназія \"Євшан\"</td>\n",
              "      <td>180.850052</td>\n",
              "      <td>13.432505</td>\n",
              "    </tr>\n",
              "    <tr>\n",
              "      <th>4</th>\n",
              "      <td>Калуський ліцей імені Дмитра Бахматюка Калуськ...</td>\n",
              "      <td>180.565549</td>\n",
              "      <td>15.430530</td>\n",
              "    </tr>\n",
              "    <tr>\n",
              "      <th>5</th>\n",
              "      <td>Гімназія \"Києво - Могилянський колегіум\" ІІ-ІІ...</td>\n",
              "      <td>179.510841</td>\n",
              "      <td>16.683798</td>\n",
              "    </tr>\n",
              "    <tr>\n",
              "      <th>6</th>\n",
              "      <td>Гімназія №178 Солом'янського району м.Києва</td>\n",
              "      <td>179.384908</td>\n",
              "      <td>19.120651</td>\n",
              "    </tr>\n",
              "    <tr>\n",
              "      <th>7</th>\n",
              "      <td>Комунальний заклад освіти \"Українсько-Американ...</td>\n",
              "      <td>179.356733</td>\n",
              "      <td>15.813039</td>\n",
              "    </tr>\n",
              "    <tr>\n",
              "      <th>8</th>\n",
              "      <td>Херсонська спеціалізована школа І-ІІІ ступенів...</td>\n",
              "      <td>179.098092</td>\n",
              "      <td>16.293133</td>\n",
              "    </tr>\n",
              "    <tr>\n",
              "      <th>9</th>\n",
              "      <td>Ліцей №208 м. Києва</td>\n",
              "      <td>178.666266</td>\n",
              "      <td>16.442304</td>\n",
              "    </tr>\n",
              "    <tr>\n",
              "      <th>10</th>\n",
              "      <td>Ліцей \"Голосіївський\" №241 міста Києва</td>\n",
              "      <td>178.552097</td>\n",
              "      <td>17.780925</td>\n",
              "    </tr>\n",
              "    <tr>\n",
              "      <th>11</th>\n",
              "      <td>КОМУНАЛЬНИЙ ЗАКЛАД \"ХАРКІВСЬКИЙ ФІЗИКО-МАТЕМАТ...</td>\n",
              "      <td>177.959662</td>\n",
              "      <td>15.273465</td>\n",
              "    </tr>\n",
              "    <tr>\n",
              "      <th>12</th>\n",
              "      <td>Ліцей \"Наукова зміна\"</td>\n",
              "      <td>177.864404</td>\n",
              "      <td>16.655980</td>\n",
              "    </tr>\n",
              "    <tr>\n",
              "      <th>13</th>\n",
              "      <td>Львівський фізико-математичний ліцей-інтернат ...</td>\n",
              "      <td>177.754997</td>\n",
              "      <td>15.973023</td>\n",
              "    </tr>\n",
              "    <tr>\n",
              "      <th>14</th>\n",
              "      <td>Львівська академічна гімназія при Національном...</td>\n",
              "      <td>177.584163</td>\n",
              "      <td>16.090046</td>\n",
              "    </tr>\n",
              "  </tbody>\n",
              "</table>\n",
              "</div>\n",
              "      <button class=\"colab-df-convert\" onclick=\"convertToInteractive('df-a39b092f-8078-4764-ad2e-5d2591b519ab')\"\n",
              "              title=\"Convert this dataframe to an interactive table.\"\n",
              "              style=\"display:none;\">\n",
              "        \n",
              "  <svg xmlns=\"http://www.w3.org/2000/svg\" height=\"24px\"viewBox=\"0 0 24 24\"\n",
              "       width=\"24px\">\n",
              "    <path d=\"M0 0h24v24H0V0z\" fill=\"none\"/>\n",
              "    <path d=\"M18.56 5.44l.94 2.06.94-2.06 2.06-.94-2.06-.94-.94-2.06-.94 2.06-2.06.94zm-11 1L8.5 8.5l.94-2.06 2.06-.94-2.06-.94L8.5 2.5l-.94 2.06-2.06.94zm10 10l.94 2.06.94-2.06 2.06-.94-2.06-.94-.94-2.06-.94 2.06-2.06.94z\"/><path d=\"M17.41 7.96l-1.37-1.37c-.4-.4-.92-.59-1.43-.59-.52 0-1.04.2-1.43.59L10.3 9.45l-7.72 7.72c-.78.78-.78 2.05 0 2.83L4 21.41c.39.39.9.59 1.41.59.51 0 1.02-.2 1.41-.59l7.78-7.78 2.81-2.81c.8-.78.8-2.07 0-2.86zM5.41 20L4 18.59l7.72-7.72 1.47 1.35L5.41 20z\"/>\n",
              "  </svg>\n",
              "      </button>\n",
              "      \n",
              "  <style>\n",
              "    .colab-df-container {\n",
              "      display:flex;\n",
              "      flex-wrap:wrap;\n",
              "      gap: 12px;\n",
              "    }\n",
              "\n",
              "    .colab-df-convert {\n",
              "      background-color: #E8F0FE;\n",
              "      border: none;\n",
              "      border-radius: 50%;\n",
              "      cursor: pointer;\n",
              "      display: none;\n",
              "      fill: #1967D2;\n",
              "      height: 32px;\n",
              "      padding: 0 0 0 0;\n",
              "      width: 32px;\n",
              "    }\n",
              "\n",
              "    .colab-df-convert:hover {\n",
              "      background-color: #E2EBFA;\n",
              "      box-shadow: 0px 1px 2px rgba(60, 64, 67, 0.3), 0px 1px 3px 1px rgba(60, 64, 67, 0.15);\n",
              "      fill: #174EA6;\n",
              "    }\n",
              "\n",
              "    [theme=dark] .colab-df-convert {\n",
              "      background-color: #3B4455;\n",
              "      fill: #D2E3FC;\n",
              "    }\n",
              "\n",
              "    [theme=dark] .colab-df-convert:hover {\n",
              "      background-color: #434B5C;\n",
              "      box-shadow: 0px 1px 3px 1px rgba(0, 0, 0, 0.15);\n",
              "      filter: drop-shadow(0px 1px 2px rgba(0, 0, 0, 0.3));\n",
              "      fill: #FFFFFF;\n",
              "    }\n",
              "  </style>\n",
              "\n",
              "      <script>\n",
              "        const buttonEl =\n",
              "          document.querySelector('#df-a39b092f-8078-4764-ad2e-5d2591b519ab button.colab-df-convert');\n",
              "        buttonEl.style.display =\n",
              "          google.colab.kernel.accessAllowed ? 'block' : 'none';\n",
              "\n",
              "        async function convertToInteractive(key) {\n",
              "          const element = document.querySelector('#df-a39b092f-8078-4764-ad2e-5d2591b519ab');\n",
              "          const dataTable =\n",
              "            await google.colab.kernel.invokeFunction('convertToInteractive',\n",
              "                                                     [key], {});\n",
              "          if (!dataTable) return;\n",
              "\n",
              "          const docLinkHtml = 'Like what you see? Visit the ' +\n",
              "            '<a target=\"_blank\" href=https://colab.research.google.com/notebooks/data_table.ipynb>data table notebook</a>'\n",
              "            + ' to learn more about interactive tables.';\n",
              "          element.innerHTML = '';\n",
              "          dataTable['output_type'] = 'display_data';\n",
              "          await google.colab.output.renderOutput(dataTable, element);\n",
              "          const docLink = document.createElement('div');\n",
              "          docLink.innerHTML = docLinkHtml;\n",
              "          element.appendChild(docLink);\n",
              "        }\n",
              "      </script>\n",
              "    </div>\n",
              "  </div>\n",
              "  "
            ]
          },
          "metadata": {}
        },
        {
          "output_type": "stream",
          "name": "stdout",
          "text": [
            "NMT schools rating\n",
            "\n"
          ]
        },
        {
          "output_type": "display_data",
          "data": {
            "text/plain": [
              "                                               school        mean        std\n",
              "0   Львівський фізико-математичний ліцей-інтернат ...  184.414141  14.093502\n",
              "1   КОМУНАЛЬНИЙ ЗАКЛАД \"ХАРКІВСЬКИЙ ФІЗИКО-МАТЕМАТ...  184.358974  11.826499\n",
              "2   Комунальний заклад освіти \"Науковий медичний л...  183.656250  12.957083\n",
              "3   Ліцей ім. Миколи Сабата Івано-Франківської міс...  182.124183  14.979089\n",
              "4   Український фізико-математичний ліцей Київсько...  181.632479  12.849889\n",
              "5                          Львівська гімназія \"Євшан\"  181.382716  15.212584\n",
              "6   Природничо-науковий ліцей №145 Печерського рай...  180.785311  15.179843\n",
              "7                                    Ліцей \"Інтелект\"  180.108333  17.265986\n",
              "8         Гімназія №178 Солом'янського району м.Києва  178.333333  14.095834\n",
              "9   Політехнічний ліцей Національного технічного у...  178.168539  15.530153\n",
              "10  Комунальний заклад \"Вінницький фізико-математи...  178.078014  18.737861\n",
              "11  Херсонська спеціалізована школа І-ІІІ ступенів...  177.774510  17.885464\n",
              "12  Долинський ліцей «Інтелект» Долинської міської...  177.468468  15.835709\n",
              "13                              Ліцей \"Наукова зміна\"  177.380645  16.422728\n",
              "14  Гімназія \"Києво - Могилянський колегіум\" ІІ-ІІ...  177.180000  16.539357"
            ],
            "text/html": [
              "\n",
              "  <div id=\"df-fbb19feb-33e0-42a4-ae63-35203d613961\">\n",
              "    <div class=\"colab-df-container\">\n",
              "      <div>\n",
              "<style scoped>\n",
              "    .dataframe tbody tr th:only-of-type {\n",
              "        vertical-align: middle;\n",
              "    }\n",
              "\n",
              "    .dataframe tbody tr th {\n",
              "        vertical-align: top;\n",
              "    }\n",
              "\n",
              "    .dataframe thead th {\n",
              "        text-align: right;\n",
              "    }\n",
              "</style>\n",
              "<table border=\"1\" class=\"dataframe\">\n",
              "  <thead>\n",
              "    <tr style=\"text-align: right;\">\n",
              "      <th></th>\n",
              "      <th>school</th>\n",
              "      <th>mean</th>\n",
              "      <th>std</th>\n",
              "    </tr>\n",
              "  </thead>\n",
              "  <tbody>\n",
              "    <tr>\n",
              "      <th>0</th>\n",
              "      <td>Львівський фізико-математичний ліцей-інтернат ...</td>\n",
              "      <td>184.414141</td>\n",
              "      <td>14.093502</td>\n",
              "    </tr>\n",
              "    <tr>\n",
              "      <th>1</th>\n",
              "      <td>КОМУНАЛЬНИЙ ЗАКЛАД \"ХАРКІВСЬКИЙ ФІЗИКО-МАТЕМАТ...</td>\n",
              "      <td>184.358974</td>\n",
              "      <td>11.826499</td>\n",
              "    </tr>\n",
              "    <tr>\n",
              "      <th>2</th>\n",
              "      <td>Комунальний заклад освіти \"Науковий медичний л...</td>\n",
              "      <td>183.656250</td>\n",
              "      <td>12.957083</td>\n",
              "    </tr>\n",
              "    <tr>\n",
              "      <th>3</th>\n",
              "      <td>Ліцей ім. Миколи Сабата Івано-Франківської міс...</td>\n",
              "      <td>182.124183</td>\n",
              "      <td>14.979089</td>\n",
              "    </tr>\n",
              "    <tr>\n",
              "      <th>4</th>\n",
              "      <td>Український фізико-математичний ліцей Київсько...</td>\n",
              "      <td>181.632479</td>\n",
              "      <td>12.849889</td>\n",
              "    </tr>\n",
              "    <tr>\n",
              "      <th>5</th>\n",
              "      <td>Львівська гімназія \"Євшан\"</td>\n",
              "      <td>181.382716</td>\n",
              "      <td>15.212584</td>\n",
              "    </tr>\n",
              "    <tr>\n",
              "      <th>6</th>\n",
              "      <td>Природничо-науковий ліцей №145 Печерського рай...</td>\n",
              "      <td>180.785311</td>\n",
              "      <td>15.179843</td>\n",
              "    </tr>\n",
              "    <tr>\n",
              "      <th>7</th>\n",
              "      <td>Ліцей \"Інтелект\"</td>\n",
              "      <td>180.108333</td>\n",
              "      <td>17.265986</td>\n",
              "    </tr>\n",
              "    <tr>\n",
              "      <th>8</th>\n",
              "      <td>Гімназія №178 Солом'янського району м.Києва</td>\n",
              "      <td>178.333333</td>\n",
              "      <td>14.095834</td>\n",
              "    </tr>\n",
              "    <tr>\n",
              "      <th>9</th>\n",
              "      <td>Політехнічний ліцей Національного технічного у...</td>\n",
              "      <td>178.168539</td>\n",
              "      <td>15.530153</td>\n",
              "    </tr>\n",
              "    <tr>\n",
              "      <th>10</th>\n",
              "      <td>Комунальний заклад \"Вінницький фізико-математи...</td>\n",
              "      <td>178.078014</td>\n",
              "      <td>18.737861</td>\n",
              "    </tr>\n",
              "    <tr>\n",
              "      <th>11</th>\n",
              "      <td>Херсонська спеціалізована школа І-ІІІ ступенів...</td>\n",
              "      <td>177.774510</td>\n",
              "      <td>17.885464</td>\n",
              "    </tr>\n",
              "    <tr>\n",
              "      <th>12</th>\n",
              "      <td>Долинський ліцей «Інтелект» Долинської міської...</td>\n",
              "      <td>177.468468</td>\n",
              "      <td>15.835709</td>\n",
              "    </tr>\n",
              "    <tr>\n",
              "      <th>13</th>\n",
              "      <td>Ліцей \"Наукова зміна\"</td>\n",
              "      <td>177.380645</td>\n",
              "      <td>16.422728</td>\n",
              "    </tr>\n",
              "    <tr>\n",
              "      <th>14</th>\n",
              "      <td>Гімназія \"Києво - Могилянський колегіум\" ІІ-ІІ...</td>\n",
              "      <td>177.180000</td>\n",
              "      <td>16.539357</td>\n",
              "    </tr>\n",
              "  </tbody>\n",
              "</table>\n",
              "</div>\n",
              "      <button class=\"colab-df-convert\" onclick=\"convertToInteractive('df-fbb19feb-33e0-42a4-ae63-35203d613961')\"\n",
              "              title=\"Convert this dataframe to an interactive table.\"\n",
              "              style=\"display:none;\">\n",
              "        \n",
              "  <svg xmlns=\"http://www.w3.org/2000/svg\" height=\"24px\"viewBox=\"0 0 24 24\"\n",
              "       width=\"24px\">\n",
              "    <path d=\"M0 0h24v24H0V0z\" fill=\"none\"/>\n",
              "    <path d=\"M18.56 5.44l.94 2.06.94-2.06 2.06-.94-2.06-.94-.94-2.06-.94 2.06-2.06.94zm-11 1L8.5 8.5l.94-2.06 2.06-.94-2.06-.94L8.5 2.5l-.94 2.06-2.06.94zm10 10l.94 2.06.94-2.06 2.06-.94-2.06-.94-.94-2.06-.94 2.06-2.06.94z\"/><path d=\"M17.41 7.96l-1.37-1.37c-.4-.4-.92-.59-1.43-.59-.52 0-1.04.2-1.43.59L10.3 9.45l-7.72 7.72c-.78.78-.78 2.05 0 2.83L4 21.41c.39.39.9.59 1.41.59.51 0 1.02-.2 1.41-.59l7.78-7.78 2.81-2.81c.8-.78.8-2.07 0-2.86zM5.41 20L4 18.59l7.72-7.72 1.47 1.35L5.41 20z\"/>\n",
              "  </svg>\n",
              "      </button>\n",
              "      \n",
              "  <style>\n",
              "    .colab-df-container {\n",
              "      display:flex;\n",
              "      flex-wrap:wrap;\n",
              "      gap: 12px;\n",
              "    }\n",
              "\n",
              "    .colab-df-convert {\n",
              "      background-color: #E8F0FE;\n",
              "      border: none;\n",
              "      border-radius: 50%;\n",
              "      cursor: pointer;\n",
              "      display: none;\n",
              "      fill: #1967D2;\n",
              "      height: 32px;\n",
              "      padding: 0 0 0 0;\n",
              "      width: 32px;\n",
              "    }\n",
              "\n",
              "    .colab-df-convert:hover {\n",
              "      background-color: #E2EBFA;\n",
              "      box-shadow: 0px 1px 2px rgba(60, 64, 67, 0.3), 0px 1px 3px 1px rgba(60, 64, 67, 0.15);\n",
              "      fill: #174EA6;\n",
              "    }\n",
              "\n",
              "    [theme=dark] .colab-df-convert {\n",
              "      background-color: #3B4455;\n",
              "      fill: #D2E3FC;\n",
              "    }\n",
              "\n",
              "    [theme=dark] .colab-df-convert:hover {\n",
              "      background-color: #434B5C;\n",
              "      box-shadow: 0px 1px 3px 1px rgba(0, 0, 0, 0.15);\n",
              "      filter: drop-shadow(0px 1px 2px rgba(0, 0, 0, 0.3));\n",
              "      fill: #FFFFFF;\n",
              "    }\n",
              "  </style>\n",
              "\n",
              "      <script>\n",
              "        const buttonEl =\n",
              "          document.querySelector('#df-fbb19feb-33e0-42a4-ae63-35203d613961 button.colab-df-convert');\n",
              "        buttonEl.style.display =\n",
              "          google.colab.kernel.accessAllowed ? 'block' : 'none';\n",
              "\n",
              "        async function convertToInteractive(key) {\n",
              "          const element = document.querySelector('#df-fbb19feb-33e0-42a4-ae63-35203d613961');\n",
              "          const dataTable =\n",
              "            await google.colab.kernel.invokeFunction('convertToInteractive',\n",
              "                                                     [key], {});\n",
              "          if (!dataTable) return;\n",
              "\n",
              "          const docLinkHtml = 'Like what you see? Visit the ' +\n",
              "            '<a target=\"_blank\" href=https://colab.research.google.com/notebooks/data_table.ipynb>data table notebook</a>'\n",
              "            + ' to learn more about interactive tables.';\n",
              "          element.innerHTML = '';\n",
              "          dataTable['output_type'] = 'display_data';\n",
              "          await google.colab.output.renderOutput(dataTable, element);\n",
              "          const docLink = document.createElement('div');\n",
              "          docLink.innerHTML = docLinkHtml;\n",
              "          element.appendChild(docLink);\n",
              "        }\n",
              "      </script>\n",
              "    </div>\n",
              "  </div>\n",
              "  "
            ]
          },
          "metadata": {}
        }
      ],
      "source": [
        "#EIT schools rating\n",
        "zno_rating = get_rating(zno_schools, zno_mean, zno_std, zno_2021_df)\n",
        "print('EIT schools rating\\n')\n",
        "display(zno_rating.head(15))\n",
        "\n",
        "nmt_rating = get_rating(nmt_schools, nmt_mean, nmt_std, nmt_2022_df)\n",
        "print('NMT schools rating\\n')\n",
        "display(nmt_rating.head(15))"
      ]
    },
    {
      "cell_type": "code",
      "execution_count": null,
      "id": "f78029d1",
      "metadata": {
        "colab": {
          "base_uri": "https://localhost:8080/",
          "height": 320
        },
        "id": "f78029d1",
        "outputId": "2a257fd0-9a04-46f5-b5a9-b5d1355413db"
      },
      "outputs": [
        {
          "output_type": "execute_result",
          "data": {
            "text/plain": [
              "<IPython.core.display.Markdown object>"
            ],
            "text/markdown": "**Summary**\n+ All marks are distributed normaly\n+ For EIT some subjects has significant difference in count of tested students so unpopular subjects was rejected\n\n+ The best school for 2021's is *Ліцей \"Інтелект\"*. In 2022's it took 8th place.\n+ The best school for 2022's is *Львівський фізико-математичний ліцей-інтернат при Львівському національному університеті імені Івана Франка*. In 2021's it took 14th place.\n\nHowever, including the error of our estimates, all of the top 10 results lie close enough to say that\nthese school do have the best scores. If we focus on the smallest error among the first \nbest-performing schools in our estimates, we get the following: (results differs only for 2022)\n+ The best school for 2022's is *КОМУНАЛЬНИЙ ЗАКЛАД \"ХАРКІВСЬКИЙ ФІЗИКО-МАТЕМАТИЧНИЙ ЛІЦЕЙ № 27 ХАРКІВСЬКОЇ МІСЬКОЇ РАДИ ХАРКІВСЬКОЇ ОБЛАСТІ\"*. In 2021's it took 12th place.\n\nAdditional conclusion using pies of success rate\n\n+ The NMT has a lower passing threshold or lower test difficulty because, \ncompared to EIT, more students had a successful test result. \nThis may affect the objectivity of the assessment of the best educational institution in 2022\nbased on the results of the assessment. They may not even be comparable with EIT 2021.\n"
          },
          "metadata": {},
          "execution_count": 24
        }
      ],
      "source": [
        "best_school_2021 = zno_rating.iloc[0]['school']\n",
        "place2021to2022 = nmt_rating.loc[nmt_rating['school']==best_school_2021].index[0]\n",
        "best_school_2022 = nmt_rating.iloc[0]['school']\n",
        "place2022to2021 = zno_rating.loc[zno_rating['school']==best_school_2022].index[0]\n",
        "\n",
        "std_best_school_2021 = zno_rating.iloc[0]['school']\n",
        "std_place2021to2022 = nmt_rating.loc[nmt_rating['school']==std_best_school_2021].index[0]\n",
        "std_best_school_2022 = nmt_rating.iloc[1]['school']\n",
        "std_place2022to2021 = zno_rating.loc[zno_rating['school']==std_best_school_2022].index[0]\n",
        "\n",
        "md(f'''**Summary**\n",
        "+ All marks are distributed normaly\n",
        "+ For EIT some subjects has significant difference in count of tested students so unpopular subjects was rejected\n",
        "\n",
        "+ The best school for 2021's is *{best_school_2021}*. In 2022's it took {place2021to2022+1}th place.\n",
        "+ The best school for 2022's is *{best_school_2022}*. In 2021's it took {place2022to2021+1}th place.\n",
        "\n",
        "However, including the error of our estimates, all of the top 10 results lie close enough to say that\n",
        "these school do have the best scores. If we focus on the smallest error among the first \n",
        "best-performing schools in our estimates, we get the following: (results differs only for 2022)\n",
        "+ The best school for 2022's is *{std_best_school_2022}*. In 2021's it took {std_place2022to2021+1}th place.\n",
        "\n",
        "Additional conclusion using pies of success rate\n",
        "\n",
        "+ The NMT has a lower passing threshold or lower test difficulty because, \n",
        "compared to EIT, more students had a successful test result. \n",
        "This may affect the objectivity of the assessment of the best educational institution in 2022\n",
        "based on the results of the assessment. They may not even be comparable with EIT 2021.\n",
        "''')"
      ]
    },
    {
      "cell_type": "markdown",
      "id": "8773a187",
      "metadata": {
        "id": "8773a187"
      },
      "source": [
        "## City schools pass IFE better than village schools \n",
        "\n",
        "Using the conclusions about the distributions from the previous section on grades in each subject, this task is to test the hypothesis that the distribution of grades for rural schools is skewed relative to urban schools.\n",
        "\n",
        "$H_0$: $\\mu_{vilage} < \\mu_{city}$\n",
        "\n",
        "$H_1$: $\\mu_{vilage} = \\mu_{city}$\n",
        "\n",
        "Which can be checked with T-test"
      ]
    },
    {
      "cell_type": "code",
      "execution_count": null,
      "id": "0de0b3d5",
      "metadata": {
        "id": "0de0b3d5"
      },
      "outputs": [],
      "source": [
        "def split_by_tertype(df):\n",
        "    isvilage = df['TerTypeName']!='місто'\n",
        "    iscity = df['TerTypeName']=='місто'\n",
        "    vilage_schools = df[isvilage]['EONAME'].value_counts()\n",
        "    city_schools = df[iscity]['EONAME'].value_counts()\n",
        "    return vilage_schools, city_schools"
      ]
    },
    {
      "cell_type": "code",
      "execution_count": null,
      "id": "1a60dea4",
      "metadata": {
        "colab": {
          "base_uri": "https://localhost:8080/"
        },
        "id": "1a60dea4",
        "outputId": "80557925-f047-4302-8421-d642777c722b"
      },
      "outputs": [
        {
          "output_type": "stream",
          "name": "stdout",
          "text": [
            "Territories types in ZNO ['місто' 'селище, село' 'селище міського типу']\n",
            "Territories types in NMT ['селище, село' 'місто' 'селище міського типу']\n"
          ]
        }
      ],
      "source": [
        "print('Territories types in ZNO', zno_2021_df['TerTypeName'].unique())\n",
        "print('Territories types in NMT', nmt_2022_df['TerTypeName'].unique())"
      ]
    },
    {
      "cell_type": "code",
      "execution_count": null,
      "id": "629b871d",
      "metadata": {
        "id": "629b871d"
      },
      "outputs": [],
      "source": [
        "zno_vilage_schools, zno_city_schools = split_by_tertype(zno_2021_df)\n",
        "nmt_vilage_schools, nmt_city_schools = split_by_tertype(nmt_2022_df)"
      ]
    },
    {
      "cell_type": "code",
      "execution_count": null,
      "id": "163fabde",
      "metadata": {
        "colab": {
          "base_uri": "https://localhost:8080/",
          "height": 355
        },
        "id": "163fabde",
        "outputId": "831db2a9-e85b-4317-c6c6-13fdf22a95f2"
      },
      "outputs": [
        {
          "output_type": "stream",
          "name": "stdout",
          "text": [
            "Vilage/city students counts 2021: 90806 246935\n",
            "Vilage/city students counts 2022: 52904 143528\n"
          ]
        },
        {
          "output_type": "execute_result",
          "data": {
            "text/plain": [
              "Text(0.5, 0.98, 'Vilage/city schools for 2022')"
            ]
          },
          "metadata": {},
          "execution_count": 28
        },
        {
          "output_type": "display_data",
          "data": {
            "text/plain": [
              "<Figure size 576x144 with 2 Axes>"
            ],
            "image/png": "[encoded data removed]"
          },
          "metadata": {
            "needs_background": "light"
          }
        },
        {
          "output_type": "display_data",
          "data": {
            "text/plain": [
              "<Figure size 576x144 with 2 Axes>"
            ],
            "image/png": "[encoded data removed]"
          },
          "metadata": {
            "needs_background": "light"
          }
        }
      ],
      "source": [
        "fig, ax = plt.subplots(nrows=1, ncols=2, figsize=(8,2))\n",
        "zno_vilage_schools.hist(bins=100, ax=ax[0])\n",
        "ax[0].set_xticks([])\n",
        "zno_city_schools.hist(bins=100, ax=ax[1])\n",
        "ax[1].set_xticks([])\n",
        "print('Vilage/city students counts 2021:', zno_vilage_schools.sum(), zno_city_schools.sum())\n",
        "\n",
        "fig.suptitle('Vilage/city schools for 2021')\n",
        "\n",
        "fig, ax = plt.subplots(nrows=1, ncols=2, figsize=(8,2))\n",
        "nmt_vilage_schools.hist(bins=100, ax=ax[0])\n",
        "ax[0].set_xticks([])\n",
        "nmt_city_schools.hist(bins=100, ax=ax[1])\n",
        "ax[1].set_xticks([])\n",
        "print('Vilage/city students counts 2022:', nmt_vilage_schools.sum(), nmt_city_schools.sum())\n",
        "\n",
        "fig.suptitle('Vilage/city schools for 2022')"
      ]
    },
    {
      "cell_type": "code",
      "execution_count": null,
      "id": "9ecc7c67",
      "metadata": {
        "colab": {
          "base_uri": "https://localhost:8080/",
          "height": 371
        },
        "id": "9ecc7c67",
        "outputId": "b5f0c2c7-aa95-4ca3-b5fe-b48e5b22843b"
      },
      "outputs": [
        {
          "output_type": "stream",
          "name": "stdout",
          "text": [
            "ZNO 2021 t-test\t -35.91317974420624 \t 9.308638973782352e-267\n",
            "NMT 2022 t-test\t -17.214911362079462 \t 9.475162302075978e-66\n"
          ]
        },
        {
          "output_type": "display_data",
          "data": {
            "text/plain": [
              "<Figure size 720x360 with 2 Axes>"
            ],
            "image/png": "[encoded data removed]"
          },
          "metadata": {
            "needs_background": "light"
          }
        }
      ],
      "source": [
        "fig, ax = plt.subplots(nrows=1, ncols=2, figsize=(10,5))\n",
        "ax= {'ZNO 2021': ax[0], 'NMT 2022': ax[1]}\n",
        "res_means = {'ZNO 2021': dict(), 'NMT 2022': dict()}\n",
        "res_std = {'ZNO 2021': dict(), 'NMT 2022': dict()}\n",
        "for df_name, df, subjects in zip(ax.keys(), [zno_2021_df, nmt_2022_df], [zno_subjects, nmt_subjects]):\n",
        "    vilage_schools,city_schools = split_by_tertype(df)\n",
        "    vilage_mean, vilage_std = get_metrics(vilage_schools, subjects, df)\n",
        "    city_mean, city_std = get_metrics(city_schools, subjects, df)\n",
        "    t_test(vilage_mean, city_mean, name=df_name)\n",
        "    \n",
        "    ax[df_name].hist(vilage_mean, label='Vilage', bins = 50)\n",
        "    ax[df_name].hist(city_mean, label='City', bins = 50)\n",
        "    \n",
        "    ax[df_name].axvline(vilage_mean.mean(), c='dodgerblue', label='Vilage_mean')\n",
        "    ax[df_name].axvspan(vilage_mean.mean()-vilage_std.mean(),vilage_mean.mean()+vilage_std.mean(), edgecolor='dodgerblue', fc='dodgerblue', alpha=0.2)\n",
        "    \n",
        "    ax[df_name].axvline(city_mean.mean(), c='red', label='City mean')\n",
        "    ax[df_name].axvspan(city_mean.mean()+city_std.mean(), city_mean.mean()-city_std.mean(), edgecolor='red', fc='red', alpha=0.2)\n",
        "    \n",
        "    ax[df_name].legend(loc=\"upper left\")\n",
        "    ax[df_name].set_title(f'Vilage and city schools distributions {df_name}')\n",
        "    res_means[df_name]['vilage']=vilage_mean.mean()\n",
        "    res_means[df_name]['city']=city_mean.mean()\n",
        "    res_std[df_name]['vilage']=vilage_std.mean()\n",
        "    res_std[df_name]['city']=city_std.mean()        "
      ]
    },
    {
      "cell_type": "code",
      "execution_count": null,
      "id": "73cfecc2",
      "metadata": {
        "colab": {
          "base_uri": "https://localhost:8080/",
          "height": 233
        },
        "id": "73cfecc2",
        "outputId": "25727912-64e0-473e-e800-12fe997f8817"
      },
      "outputs": [
        {
          "output_type": "execute_result",
          "data": {
            "text/plain": [
              "<IPython.core.display.Markdown object>"
            ],
            "text/markdown": "\n**Summary:**\n\n+ Received estimation for **vilage** schools in **2021** $115.8\\pm15.88$\n+ Received estimation for **city** schools in **2021** $136.18\\pm21.23$\n\n+ Received estimation for **vilage** schools in **2022** $144.75\\pm12.63$\n+ Received estimation for **city** schools in **2022** $151.18\\pm14.88$\n\n+ According to T-test results in 2021&2022 vilage schools have biased distribution with lower mean but in 2022\nbias lies in the range of estimated standart deviatiation so we can say that there is no significant difference\nin vilage and city scores. Also bias can be conected with lower count of represented students from vilages \nbecause they usualy have lower population density.\n+ The gap is less significant in last year results (2022)\n"
          },
          "metadata": {},
          "execution_count": 30
        }
      ],
      "source": [
        "md(f'''\n",
        "**Summary:**\n",
        "\n",
        "+ Received estimation for **vilage** schools in **2021** ${round(res_means['ZNO 2021']['vilage'],2)}\\pm{round(res_std['ZNO 2021']['vilage'],2)}$\n",
        "+ Received estimation for **city** schools in **2021** ${round(res_means['ZNO 2021']['city'],2)}\\pm{round(res_std['ZNO 2021']['city'],2)}$\n",
        "\n",
        "+ Received estimation for **vilage** schools in **2022** ${round(res_means['NMT 2022']['vilage'],2)}\\pm{round(res_std['NMT 2022']['vilage'],2)}$\n",
        "+ Received estimation for **city** schools in **2022** ${round(res_means['NMT 2022']['city'],2)}\\pm{round(res_std['NMT 2022']['city'],2)}$\n",
        "\n",
        "+ According to T-test results in 2021&2022 vilage schools have biased distribution with lower mean but in 2022\n",
        "bias lies in the range of estimated standart deviatiation so we can say that there is no significant difference\n",
        "in vilage and city scores. Also bias can be conected with lower count of represented students from vilages \n",
        "because they usualy have lower population density.\n",
        "+ The gap is less significant in last year results (2022)\n",
        "''')"
      ]
    },
    {
      "cell_type": "markdown",
      "id": "5b002f2e",
      "metadata": {
        "id": "5b002f2e"
      },
      "source": [
        "## Patterns in choosing examination subjects for men and women\n",
        "\n",
        "This section will use the Chi-square test with the following hypotheses\n",
        "\n",
        "$H_0$: the frequency of women selecting subjects is the same as for men\n",
        "\n",
        "$H_1$: different\n",
        "\n",
        "Differences in choices are determined by the difference between the expected values and those obtained in the data set.\n",
        "\n",
        "+ Only the dataset of 2021 is used in this section, because in 2022 all subjects were compulsory\n",
        "+ Excluded compulsory subjects such as Ukrainian Language and Literature (UML/Ukr), Mathematics (Math/MathSt)"
      ]
    },
    {
      "cell_type": "code",
      "execution_count": null,
      "id": "0d5e6120",
      "metadata": {
        "id": "0d5e6120"
      },
      "outputs": [],
      "source": [
        "subjects = zno_subj.copy()\n",
        "subjects.remove('UML')\n",
        "subjects.remove('Ukr')\n",
        "subjects.remove('Math')\n",
        "subjects.remove('MathSt')\n",
        "# Spanish failed U-test\n",
        "subjects.remove('Spa')\n",
        "subjects_features = [subj+'Ball100' for subj in subjects]"
      ]
    },
    {
      "cell_type": "code",
      "execution_count": null,
      "id": "a5cfc3d2",
      "metadata": {
        "id": "a5cfc3d2"
      },
      "outputs": [],
      "source": [
        "def split_by_sextype(df):\n",
        "    iswoman = df['SexTypeName']!='чоловіча'\n",
        "    isman = df['SexTypeName']=='чоловіча'\n",
        "    womans = df[iswoman]\n",
        "    mans = df[isman]\n",
        "    return womans, mans"
      ]
    },
    {
      "cell_type": "code",
      "execution_count": null,
      "id": "80665caa",
      "metadata": {
        "colab": {
          "base_uri": "https://localhost:8080/",
          "height": 300
        },
        "id": "80665caa",
        "outputId": "3df8eea6-a275-45a5-e434-969413f41a12"
      },
      "outputs": [
        {
          "output_type": "display_data",
          "data": {
            "text/plain": [
              "             womans   mans\n",
              "HistBall100  108347  91026\n",
              "PhysBall100    3393  19809\n",
              "ChemBall100    6217   3592\n",
              "BioBall100    52002  29410\n",
              "GeoBall100    54568  58548\n",
              "EngBall100    64878  62836\n",
              "FraBall100      315     99\n",
              "DeuBall100     1198    627"
            ],
            "text/html": [
              "\n",
              "  <div id=\"df-422dc070-cdc8-4844-9487-6280e422b6f8\">\n",
              "    <div class=\"colab-df-container\">\n",
              "      <div>\n",
              "<style scoped>\n",
              "    .dataframe tbody tr th:only-of-type {\n",
              "        vertical-align: middle;\n",
              "    }\n",
              "\n",
              "    .dataframe tbody tr th {\n",
              "        vertical-align: top;\n",
              "    }\n",
              "\n",
              "    .dataframe thead th {\n",
              "        text-align: right;\n",
              "    }\n",
              "</style>\n",
              "<table border=\"1\" class=\"dataframe\">\n",
              "  <thead>\n",
              "    <tr style=\"text-align: right;\">\n",
              "      <th></th>\n",
              "      <th>womans</th>\n",
              "      <th>mans</th>\n",
              "    </tr>\n",
              "  </thead>\n",
              "  <tbody>\n",
              "    <tr>\n",
              "      <th>HistBall100</th>\n",
              "      <td>108347</td>\n",
              "      <td>91026</td>\n",
              "    </tr>\n",
              "    <tr>\n",
              "      <th>PhysBall100</th>\n",
              "      <td>3393</td>\n",
              "      <td>19809</td>\n",
              "    </tr>\n",
              "    <tr>\n",
              "      <th>ChemBall100</th>\n",
              "      <td>6217</td>\n",
              "      <td>3592</td>\n",
              "    </tr>\n",
              "    <tr>\n",
              "      <th>BioBall100</th>\n",
              "      <td>52002</td>\n",
              "      <td>29410</td>\n",
              "    </tr>\n",
              "    <tr>\n",
              "      <th>GeoBall100</th>\n",
              "      <td>54568</td>\n",
              "      <td>58548</td>\n",
              "    </tr>\n",
              "    <tr>\n",
              "      <th>EngBall100</th>\n",
              "      <td>64878</td>\n",
              "      <td>62836</td>\n",
              "    </tr>\n",
              "    <tr>\n",
              "      <th>FraBall100</th>\n",
              "      <td>315</td>\n",
              "      <td>99</td>\n",
              "    </tr>\n",
              "    <tr>\n",
              "      <th>DeuBall100</th>\n",
              "      <td>1198</td>\n",
              "      <td>627</td>\n",
              "    </tr>\n",
              "  </tbody>\n",
              "</table>\n",
              "</div>\n",
              "      <button class=\"colab-df-convert\" onclick=\"convertToInteractive('df-422dc070-cdc8-4844-9487-6280e422b6f8')\"\n",
              "              title=\"Convert this dataframe to an interactive table.\"\n",
              "              style=\"display:none;\">\n",
              "        \n",
              "  <svg xmlns=\"http://www.w3.org/2000/svg\" height=\"24px\"viewBox=\"0 0 24 24\"\n",
              "       width=\"24px\">\n",
              "    <path d=\"M0 0h24v24H0V0z\" fill=\"none\"/>\n",
              "    <path d=\"M18.56 5.44l.94 2.06.94-2.06 2.06-.94-2.06-.94-.94-2.06-.94 2.06-2.06.94zm-11 1L8.5 8.5l.94-2.06 2.06-.94-2.06-.94L8.5 2.5l-.94 2.06-2.06.94zm10 10l.94 2.06.94-2.06 2.06-.94-2.06-.94-.94-2.06-.94 2.06-2.06.94z\"/><path d=\"M17.41 7.96l-1.37-1.37c-.4-.4-.92-.59-1.43-.59-.52 0-1.04.2-1.43.59L10.3 9.45l-7.72 7.72c-.78.78-.78 2.05 0 2.83L4 21.41c.39.39.9.59 1.41.59.51 0 1.02-.2 1.41-.59l7.78-7.78 2.81-2.81c.8-.78.8-2.07 0-2.86zM5.41 20L4 18.59l7.72-7.72 1.47 1.35L5.41 20z\"/>\n",
              "  </svg>\n",
              "      </button>\n",
              "      \n",
              "  <style>\n",
              "    .colab-df-container {\n",
              "      display:flex;\n",
              "      flex-wrap:wrap;\n",
              "      gap: 12px;\n",
              "    }\n",
              "\n",
              "    .colab-df-convert {\n",
              "      background-color: #E8F0FE;\n",
              "      border: none;\n",
              "      border-radius: 50%;\n",
              "      cursor: pointer;\n",
              "      display: none;\n",
              "      fill: #1967D2;\n",
              "      height: 32px;\n",
              "      padding: 0 0 0 0;\n",
              "      width: 32px;\n",
              "    }\n",
              "\n",
              "    .colab-df-convert:hover {\n",
              "      background-color: #E2EBFA;\n",
              "      box-shadow: 0px 1px 2px rgba(60, 64, 67, 0.3), 0px 1px 3px 1px rgba(60, 64, 67, 0.15);\n",
              "      fill: #174EA6;\n",
              "    }\n",
              "\n",
              "    [theme=dark] .colab-df-convert {\n",
              "      background-color: #3B4455;\n",
              "      fill: #D2E3FC;\n",
              "    }\n",
              "\n",
              "    [theme=dark] .colab-df-convert:hover {\n",
              "      background-color: #434B5C;\n",
              "      box-shadow: 0px 1px 3px 1px rgba(0, 0, 0, 0.15);\n",
              "      filter: drop-shadow(0px 1px 2px rgba(0, 0, 0, 0.3));\n",
              "      fill: #FFFFFF;\n",
              "    }\n",
              "  </style>\n",
              "\n",
              "      <script>\n",
              "        const buttonEl =\n",
              "          document.querySelector('#df-422dc070-cdc8-4844-9487-6280e422b6f8 button.colab-df-convert');\n",
              "        buttonEl.style.display =\n",
              "          google.colab.kernel.accessAllowed ? 'block' : 'none';\n",
              "\n",
              "        async function convertToInteractive(key) {\n",
              "          const element = document.querySelector('#df-422dc070-cdc8-4844-9487-6280e422b6f8');\n",
              "          const dataTable =\n",
              "            await google.colab.kernel.invokeFunction('convertToInteractive',\n",
              "                                                     [key], {});\n",
              "          if (!dataTable) return;\n",
              "\n",
              "          const docLinkHtml = 'Like what you see? Visit the ' +\n",
              "            '<a target=\"_blank\" href=https://colab.research.google.com/notebooks/data_table.ipynb>data table notebook</a>'\n",
              "            + ' to learn more about interactive tables.';\n",
              "          element.innerHTML = '';\n",
              "          dataTable['output_type'] = 'display_data';\n",
              "          await google.colab.output.renderOutput(dataTable, element);\n",
              "          const docLink = document.createElement('div');\n",
              "          docLink.innerHTML = docLinkHtml;\n",
              "          element.appendChild(docLink);\n",
              "        }\n",
              "      </script>\n",
              "    </div>\n",
              "  </div>\n",
              "  "
            ]
          },
          "metadata": {}
        }
      ],
      "source": [
        "zno_womans, zno_mans = split_by_sextype(zno_2021_df)\n",
        "zno_woman_choices = zno_womans[subjects_features].count()\n",
        "zno_man_choices = zno_mans[subjects_features].count()\n",
        "choices = pd.concat([zno_woman_choices, zno_man_choices],axis=1, keys=['womans', 'mans'])\n",
        "display(choices)"
      ]
    },
    {
      "cell_type": "code",
      "execution_count": null,
      "id": "64ab7be7",
      "metadata": {
        "colab": {
          "base_uri": "https://localhost:8080/",
          "height": 298
        },
        "id": "64ab7be7",
        "outputId": "5b5532ec-72d3-4926-c54a-4991f22e1923"
      },
      "outputs": [
        {
          "output_type": "display_data",
          "data": {
            "text/plain": [
              "<Figure size 432x288 with 1 Axes>"
            ],
            "image/png": "[encoded data removed]"
          },
          "metadata": {
            "needs_background": "light"
          }
        }
      ],
      "source": [
        "fig, ax = plt.subplots()\n",
        "choices.plot.bar(ax=ax, color={'womans': 'pink', 'mans': 'skyblue'})\n",
        "plt.xticks(range(len(subjects)), subjects)\n",
        "plt.ylabel(\"Count\")\n",
        "plt.xlabel(\"Subject\")\n",
        "display()"
      ]
    },
    {
      "cell_type": "code",
      "execution_count": null,
      "id": "139dc8c9",
      "metadata": {
        "colab": {
          "base_uri": "https://localhost:8080/",
          "height": 455
        },
        "id": "139dc8c9",
        "outputId": "560b5efa-bbd2-4b1d-9a80-2bde5f46be41"
      },
      "outputs": [
        {
          "output_type": "display_data",
          "data": {
            "text/plain": [
              "<IPython.core.display.Markdown object>"
            ],
            "text/markdown": "Excepted values:"
          },
          "metadata": {}
        },
        {
          "output_type": "display_data",
          "data": {
            "text/plain": [
              "                    womans          mans\n",
              "HistBall100  104156.652715  95216.347285\n",
              "PhysBall100   12121.213285  11080.786715\n",
              "ChemBall100    5124.428115   4684.571885\n",
              "BioBall100    42531.342814  38880.657186\n",
              "GeoBall100    59094.179896  54021.820104\n",
              "EngBall100    66720.482436  60993.517564\n",
              "FraBall100      216.282316    197.717684\n",
              "DeuBall100      953.418423    871.581577"
            ],
            "text/html": [
              "\n",
              "  <div id=\"df-b172cc63-3d34-443f-8cf0-acb0a1248a00\">\n",
              "    <div class=\"colab-df-container\">\n",
              "      <div>\n",
              "<style scoped>\n",
              "    .dataframe tbody tr th:only-of-type {\n",
              "        vertical-align: middle;\n",
              "    }\n",
              "\n",
              "    .dataframe tbody tr th {\n",
              "        vertical-align: top;\n",
              "    }\n",
              "\n",
              "    .dataframe thead th {\n",
              "        text-align: right;\n",
              "    }\n",
              "</style>\n",
              "<table border=\"1\" class=\"dataframe\">\n",
              "  <thead>\n",
              "    <tr style=\"text-align: right;\">\n",
              "      <th></th>\n",
              "      <th>womans</th>\n",
              "      <th>mans</th>\n",
              "    </tr>\n",
              "  </thead>\n",
              "  <tbody>\n",
              "    <tr>\n",
              "      <th>HistBall100</th>\n",
              "      <td>104156.652715</td>\n",
              "      <td>95216.347285</td>\n",
              "    </tr>\n",
              "    <tr>\n",
              "      <th>PhysBall100</th>\n",
              "      <td>12121.213285</td>\n",
              "      <td>11080.786715</td>\n",
              "    </tr>\n",
              "    <tr>\n",
              "      <th>ChemBall100</th>\n",
              "      <td>5124.428115</td>\n",
              "      <td>4684.571885</td>\n",
              "    </tr>\n",
              "    <tr>\n",
              "      <th>BioBall100</th>\n",
              "      <td>42531.342814</td>\n",
              "      <td>38880.657186</td>\n",
              "    </tr>\n",
              "    <tr>\n",
              "      <th>GeoBall100</th>\n",
              "      <td>59094.179896</td>\n",
              "      <td>54021.820104</td>\n",
              "    </tr>\n",
              "    <tr>\n",
              "      <th>EngBall100</th>\n",
              "      <td>66720.482436</td>\n",
              "      <td>60993.517564</td>\n",
              "    </tr>\n",
              "    <tr>\n",
              "      <th>FraBall100</th>\n",
              "      <td>216.282316</td>\n",
              "      <td>197.717684</td>\n",
              "    </tr>\n",
              "    <tr>\n",
              "      <th>DeuBall100</th>\n",
              "      <td>953.418423</td>\n",
              "      <td>871.581577</td>\n",
              "    </tr>\n",
              "  </tbody>\n",
              "</table>\n",
              "</div>\n",
              "      <button class=\"colab-df-convert\" onclick=\"convertToInteractive('df-b172cc63-3d34-443f-8cf0-acb0a1248a00')\"\n",
              "              title=\"Convert this dataframe to an interactive table.\"\n",
              "              style=\"display:none;\">\n",
              "        \n",
              "  <svg xmlns=\"http://www.w3.org/2000/svg\" height=\"24px\"viewBox=\"0 0 24 24\"\n",
              "       width=\"24px\">\n",
              "    <path d=\"M0 0h24v24H0V0z\" fill=\"none\"/>\n",
              "    <path d=\"M18.56 5.44l.94 2.06.94-2.06 2.06-.94-2.06-.94-.94-2.06-.94 2.06-2.06.94zm-11 1L8.5 8.5l.94-2.06 2.06-.94-2.06-.94L8.5 2.5l-.94 2.06-2.06.94zm10 10l.94 2.06.94-2.06 2.06-.94-2.06-.94-.94-2.06-.94 2.06-2.06.94z\"/><path d=\"M17.41 7.96l-1.37-1.37c-.4-.4-.92-.59-1.43-.59-.52 0-1.04.2-1.43.59L10.3 9.45l-7.72 7.72c-.78.78-.78 2.05 0 2.83L4 21.41c.39.39.9.59 1.41.59.51 0 1.02-.2 1.41-.59l7.78-7.78 2.81-2.81c.8-.78.8-2.07 0-2.86zM5.41 20L4 18.59l7.72-7.72 1.47 1.35L5.41 20z\"/>\n",
              "  </svg>\n",
              "      </button>\n",
              "      \n",
              "  <style>\n",
              "    .colab-df-container {\n",
              "      display:flex;\n",
              "      flex-wrap:wrap;\n",
              "      gap: 12px;\n",
              "    }\n",
              "\n",
              "    .colab-df-convert {\n",
              "      background-color: #E8F0FE;\n",
              "      border: none;\n",
              "      border-radius: 50%;\n",
              "      cursor: pointer;\n",
              "      display: none;\n",
              "      fill: #1967D2;\n",
              "      height: 32px;\n",
              "      padding: 0 0 0 0;\n",
              "      width: 32px;\n",
              "    }\n",
              "\n",
              "    .colab-df-convert:hover {\n",
              "      background-color: #E2EBFA;\n",
              "      box-shadow: 0px 1px 2px rgba(60, 64, 67, 0.3), 0px 1px 3px 1px rgba(60, 64, 67, 0.15);\n",
              "      fill: #174EA6;\n",
              "    }\n",
              "\n",
              "    [theme=dark] .colab-df-convert {\n",
              "      background-color: #3B4455;\n",
              "      fill: #D2E3FC;\n",
              "    }\n",
              "\n",
              "    [theme=dark] .colab-df-convert:hover {\n",
              "      background-color: #434B5C;\n",
              "      box-shadow: 0px 1px 3px 1px rgba(0, 0, 0, 0.15);\n",
              "      filter: drop-shadow(0px 1px 2px rgba(0, 0, 0, 0.3));\n",
              "      fill: #FFFFFF;\n",
              "    }\n",
              "  </style>\n",
              "\n",
              "      <script>\n",
              "        const buttonEl =\n",
              "          document.querySelector('#df-b172cc63-3d34-443f-8cf0-acb0a1248a00 button.colab-df-convert');\n",
              "        buttonEl.style.display =\n",
              "          google.colab.kernel.accessAllowed ? 'block' : 'none';\n",
              "\n",
              "        async function convertToInteractive(key) {\n",
              "          const element = document.querySelector('#df-b172cc63-3d34-443f-8cf0-acb0a1248a00');\n",
              "          const dataTable =\n",
              "            await google.colab.kernel.invokeFunction('convertToInteractive',\n",
              "                                                     [key], {});\n",
              "          if (!dataTable) return;\n",
              "\n",
              "          const docLinkHtml = 'Like what you see? Visit the ' +\n",
              "            '<a target=\"_blank\" href=https://colab.research.google.com/notebooks/data_table.ipynb>data table notebook</a>'\n",
              "            + ' to learn more about interactive tables.';\n",
              "          element.innerHTML = '';\n",
              "          dataTable['output_type'] = 'display_data';\n",
              "          await google.colab.output.renderOutput(dataTable, element);\n",
              "          const docLink = document.createElement('div');\n",
              "          docLink.innerHTML = docLinkHtml;\n",
              "          element.appendChild(docLink);\n",
              "        }\n",
              "      </script>\n",
              "    </div>\n",
              "  </div>\n",
              "  "
            ]
          },
          "metadata": {}
        },
        {
          "output_type": "display_data",
          "data": {
            "text/plain": [
              "<IPython.core.display.Markdown object>"
            ],
            "text/markdown": "\n|Statistics         | p-value           | Degrees of freedom|\n|-------------------|-------------------|-------------------|   \n| 19474.7859 | 0.0 | 7 |\n\nIs H_0 rejected: *True*\n\nThe most unexcepted result: *['womans' 'BioBall100']* with error 9470.66 \n\n\n---\n\n"
          },
          "metadata": {}
        }
      ],
      "source": [
        "grid = np.array(np.meshgrid(choices.columns, choices.index, sparse=False)).reshape(2,-1)\n",
        "test_bool_results = {'Subject':[], 'SexTypeName':[], 'BoolCategory':[],'Error':[]}\n",
        "res = sts.chi2_contingency(choices)\n",
        "res_bool = res[1]<0.25\n",
        "res_indx = np.abs(res[3]-choices.to_numpy()).argmax()\n",
        "res_error = (res[3]-choices.to_numpy()).flatten()[res_indx]\n",
        "display(md('Excepted values:'))\n",
        "display(pd.DataFrame(res[3], index=choices.index, columns=choices.columns))\n",
        "display(md(f\"\"\"\n",
        "|Statistics         | p-value           | Degrees of freedom|\n",
        "|-------------------|-------------------|-------------------|   \n",
        "| {round(res[0],4)} | {round(res[1],4)} | {round(res[2],2)} |\n",
        "\n",
        "Is H_0 rejected: *{res_bool}*\n",
        "\n",
        "{f'The most unexcepted result: *{grid.T[res_indx]}* with error {-round(res_error,2)} ' if res_bool else ''}\n",
        "\n",
        "\n",
        "---\n",
        "\n",
        "\"\"\"))\n",
        "res_error = pd.DataFrame((choices.to_numpy()-res[3]), index=choices.index, columns=choices.columns)"
      ]
    },
    {
      "cell_type": "code",
      "execution_count": null,
      "id": "c4050ffc",
      "metadata": {
        "colab": {
          "base_uri": "https://localhost:8080/",
          "height": 298
        },
        "id": "c4050ffc",
        "outputId": "0a492df4-38f9-4ad5-c3ab-1f7df67147fa"
      },
      "outputs": [
        {
          "output_type": "display_data",
          "data": {
            "text/plain": [
              "<Figure size 432x288 with 1 Axes>"
            ],
            "image/png": "[encoded data removed]"
          },
          "metadata": {
            "needs_background": "light"
          }
        }
      ],
      "source": [
        "res_sorted = res_error.sort_values(by='womans', ascending=False)\n",
        "res_sorted.plot.bar(color={'womans': 'pink', 'mans': 'skyblue'})\n",
        "plt.xticks(range(len(res_sorted.index)), [ind.replace('Ball100', '') for ind in res_sorted.index])\n",
        "plt.axhline(ls=':', c='gray')\n",
        "plt.ylabel(\"Error\")\n",
        "plt.xlabel(\"Subject\")\n",
        "display()"
      ]
    },
    {
      "cell_type": "code",
      "execution_count": null,
      "id": "71ab883e",
      "metadata": {
        "colab": {
          "base_uri": "https://localhost:8080/",
          "height": 256
        },
        "id": "71ab883e",
        "outputId": "27a6b2b0-b90f-44bf-fada-895ba950989a"
      },
      "outputs": [
        {
          "output_type": "display_data",
          "data": {
            "text/plain": [
              "<IPython.core.display.Markdown object>"
            ],
            "text/markdown": "**Summary:**"
          },
          "metadata": {}
        },
        {
          "output_type": "display_data",
          "data": {
            "text/plain": [
              "<IPython.core.display.Markdown object>"
            ],
            "text/markdown": "Womans frequently choices than mans the next subjects: \n+ Hist\n + Chem\n + Bio\n + Fra\n + Deu"
          },
          "metadata": {}
        },
        {
          "output_type": "display_data",
          "data": {
            "text/plain": [
              "<IPython.core.display.Markdown object>"
            ],
            "text/markdown": "Mans frequently choices than womans the next subjects: \n+ Phys\n + Geo\n + Eng"
          },
          "metadata": {}
        }
      ],
      "source": [
        "womans_prefer_choices = np.array(subjects)[res_error['womans']>0]\n",
        "mans_prefer_choices = np.array(subjects)[res_error['mans']>0]\n",
        "display(md('**Summary:**'))\n",
        "display(md(\"Womans frequently choices than mans the next subjects: \\n+ \"+'\\n + '.join(womans_prefer_choices)))\n",
        "display(md(\"Mans frequently choices than womans the next subjects: \\n+ \"+'\\n + '.join(mans_prefer_choices)))"
      ]
    }
  ],
  "metadata": {
    "kernelspec": {
      "display_name": "Python [conda env:tf_gpu] *",
      "language": "python",
      "name": "conda-env-tf_gpu-py"
    },
    "language_info": {
      "codemirror_mode": {
        "name": "ipython",
        "version": 3
      },
      "file_extension": ".py",
      "mimetype": "text/x-python",
      "name": "python",
      "nbconvert_exporter": "python",
      "pygments_lexer": "ipython3",
      "version": "3.9.16"
    },
    "colab": {
      "provenance": [],
      "include_colab_link": true
    }
  },
  "nbformat": 4,
  "nbformat_minor": 5
}